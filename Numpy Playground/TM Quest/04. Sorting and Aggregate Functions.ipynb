{
 "cells": [
  {
   "cell_type": "code",
   "execution_count": 1,
   "id": "4b39daca-83c4-4867-a2d1-c8f2abd7697e",
   "metadata": {},
   "outputs": [],
   "source": [
    "from IPython.core.interactiveshell import InteractiveShell\n",
    "\n",
    "InteractiveShell.ast_node_interactivity = \"all\"\n",
    "\n",
    "import numpy as np\n",
    "import sympy as sp"
   ]
  },
  {
   "cell_type": "markdown",
   "id": "cdfa127c-d7a3-4fd7-b5f3-974ea3a36984",
   "metadata": {},
   "source": [
    "# Sorting"
   ]
  },
  {
   "cell_type": "code",
   "execution_count": 11,
   "id": "8df22bce-bd0a-4aa3-9afb-8df485997ba0",
   "metadata": {},
   "outputs": [],
   "source": [
    "ls = [4,8,15,16,42,23]"
   ]
  },
  {
   "cell_type": "code",
   "execution_count": 13,
   "id": "7d7d16d8-7a27-4648-b5b5-edeeabfec738",
   "metadata": {},
   "outputs": [
    {
     "data": {
      "text/plain": [
       "array([ 4,  8, 15, 16, 42, 23])"
      ]
     },
     "execution_count": 13,
     "metadata": {},
     "output_type": "execute_result"
    }
   ],
   "source": [
    "array = np.array(ls)\n",
    "array"
   ]
  },
  {
   "cell_type": "code",
   "execution_count": 15,
   "id": "44fef2b6-1877-4685-a82b-7666c61eb8fa",
   "metadata": {},
   "outputs": [
    {
     "data": {
      "text/plain": [
       "array([ 4,  8, 15, 16, 23, 42])"
      ]
     },
     "execution_count": 15,
     "metadata": {},
     "output_type": "execute_result"
    }
   ],
   "source": [
    "np.sort(array)"
   ]
  },
  {
   "cell_type": "markdown",
   "id": "6601286f-00f3-4d7c-8125-cc1a523d19f4",
   "metadata": {},
   "source": [
    "# Copies vs Views"
   ]
  },
  {
   "cell_type": "code",
   "execution_count": 29,
   "id": "98ac5d2f-03f1-412f-8255-8143670f713d",
   "metadata": {},
   "outputs": [
    {
     "data": {
      "text/plain": [
       "array([42, 23, 16, 15,  8,  4])"
      ]
     },
     "execution_count": 29,
     "metadata": {},
     "output_type": "execute_result"
    },
    {
     "data": {
      "text/plain": [
       "array([1000,   23,   16,   15,    8,    4])"
      ]
     },
     "execution_count": 29,
     "metadata": {},
     "output_type": "execute_result"
    },
    {
     "data": {
      "text/plain": [
       "array([   4,    8,   15,   16,   23, 1000])"
      ]
     },
     "execution_count": 29,
     "metadata": {},
     "output_type": "execute_result"
    }
   ],
   "source": [
    "# Reverse an array\n",
    "array = np.array([4,8,15,16,23,42])\n",
    "reverse_array = array[::-1]\n",
    "reverse_array\n",
    "\n",
    "reverse_array[0] = 1000\n",
    "reverse_array\n",
    "array\n",
    "\n",
    "# Slicing created a view"
   ]
  },
  {
   "cell_type": "code",
   "execution_count": 31,
   "id": "e8c7d71f-6b10-4f15-8dfe-52929d40b4ea",
   "metadata": {},
   "outputs": [
    {
     "data": {
      "text/plain": [
       "array([ 4,  8, 15, 16, 23, 42])"
      ]
     },
     "execution_count": 31,
     "metadata": {},
     "output_type": "execute_result"
    },
    {
     "data": {
      "text/plain": [
       "array([-4,  8, 15, 16, 23, 42])"
      ]
     },
     "execution_count": 31,
     "metadata": {},
     "output_type": "execute_result"
    },
    {
     "data": {
      "text/plain": [
       "array([1000,    8,   15,   16,   23,   42])"
      ]
     },
     "execution_count": 31,
     "metadata": {},
     "output_type": "execute_result"
    },
    {
     "data": {
      "text/plain": [
       "array([-4,  8, 15, 16, 23, 42])"
      ]
     },
     "execution_count": 31,
     "metadata": {},
     "output_type": "execute_result"
    }
   ],
   "source": [
    "array = np.array([-4, 8, 15, 16, 23, 42])\n",
    "positive_array = np.abs(array) # create a copy\n",
    "\n",
    "positive_array\n",
    "array\n",
    "\n",
    "positive_array[0] = 1000\n",
    "positive_array\n",
    "array"
   ]
  },
  {
   "cell_type": "markdown",
   "id": "7487e76e-b586-4278-a465-7a854fb12ad7",
   "metadata": {},
   "source": [
    "# Aggregate Functions"
   ]
  },
  {
   "cell_type": "code",
   "execution_count": null,
   "id": "e653b5ab-c2fa-4001-8d36-ec2f2d474b2d",
   "metadata": {},
   "outputs": [],
   "source": [
    "array = np.array([4,8,15,16,23,42])\n"
   ]
  },
  {
   "cell_type": "code",
   "execution_count": null,
   "id": "0023e4a6-cb9b-48a0-b99e-439d7ef558c7",
   "metadata": {},
   "outputs": [],
   "source": []
  },
  {
   "cell_type": "code",
   "execution_count": null,
   "id": "c9400522-0b54-4549-b386-451d9d60d26b",
   "metadata": {},
   "outputs": [],
   "source": []
  }
 ],
 "metadata": {
  "kernelspec": {
   "display_name": "LYH-ML",
   "language": "python",
   "name": "ml"
  },
  "language_info": {
   "codemirror_mode": {
    "name": "ipython",
    "version": 3
   },
   "file_extension": ".py",
   "mimetype": "text/x-python",
   "name": "python",
   "nbconvert_exporter": "python",
   "pygments_lexer": "ipython3",
   "version": "3.8.15"
  }
 },
 "nbformat": 4,
 "nbformat_minor": 5
}
