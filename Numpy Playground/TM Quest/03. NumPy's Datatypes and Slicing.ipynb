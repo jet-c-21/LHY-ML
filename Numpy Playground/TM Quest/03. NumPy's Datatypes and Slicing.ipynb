{
 "cells": [
  {
   "cell_type": "code",
   "execution_count": 1,
   "id": "06ac3497-0ee0-460b-93dc-879984f93c96",
   "metadata": {},
   "outputs": [],
   "source": [
    "from IPython.core.interactiveshell import InteractiveShell\n",
    "\n",
    "InteractiveShell.ast_node_interactivity = \"all\"\n",
    "\n",
    "import numpy as np\n",
    "import sympy as sp"
   ]
  },
  {
   "cell_type": "code",
   "execution_count": 20,
   "id": "dfec83ac-4fec-4abe-bb2c-75e292deff6a",
   "metadata": {},
   "outputs": [
    {
     "data": {
      "text/plain": [
       "dtype('int64')"
      ]
     },
     "execution_count": 20,
     "metadata": {},
     "output_type": "execute_result"
    }
   ],
   "source": [
    "ls = [4,8,15,16,23,42]\n",
    "array = np.array(ls)\n",
    "array.dtype"
   ]
  },
  {
   "cell_type": "code",
   "execution_count": 21,
   "id": "f61a14a5-b829-4e03-99ea-024fee1c63ea",
   "metadata": {},
   "outputs": [
    {
     "data": {
      "text/plain": [
       "array([ 4,  8, 15, 16, 23, 42], dtype=int32)"
      ]
     },
     "execution_count": 21,
     "metadata": {},
     "output_type": "execute_result"
    }
   ],
   "source": [
    "array = np.array(ls, dtype=np.int32)\n",
    "array"
   ]
  },
  {
   "cell_type": "code",
   "execution_count": 22,
   "id": "26ef4191-ebfc-4644-b7f3-a83a2db852a9",
   "metadata": {},
   "outputs": [
    {
     "data": {
      "text/plain": [
       "6"
      ]
     },
     "execution_count": 22,
     "metadata": {},
     "output_type": "execute_result"
    }
   ],
   "source": [
    "array.size"
   ]
  },
  {
   "cell_type": "code",
   "execution_count": 23,
   "id": "fa3b1cea-7584-4023-b8a4-e5d00a0183ad",
   "metadata": {},
   "outputs": [
    {
     "data": {
      "text/plain": [
       "24"
      ]
     },
     "execution_count": 23,
     "metadata": {},
     "output_type": "execute_result"
    }
   ],
   "source": [
    "array.nbytes"
   ]
  },
  {
   "cell_type": "markdown",
   "id": "40fcca7d-f7f8-4190-89c3-6c3fd4205c76",
   "metadata": {},
   "source": [
    "# Slicing"
   ]
  },
  {
   "cell_type": "code",
   "execution_count": 24,
   "id": "e8a1fd07-2cd4-4ecd-b1bf-c58ec94a59c8",
   "metadata": {},
   "outputs": [],
   "source": [
    "array = np.array(ls)"
   ]
  },
  {
   "cell_type": "code",
   "execution_count": 35,
   "id": "b15e1da3-3ef9-40cf-9836-e57dc0992b03",
   "metadata": {},
   "outputs": [
    {
     "data": {
      "text/plain": [
       "array([ 4,  8, 15, 16, 23, 42])"
      ]
     },
     "execution_count": 35,
     "metadata": {},
     "output_type": "execute_result"
    },
    {
     "data": {
      "text/plain": [
       "array([16, 23, 42])"
      ]
     },
     "execution_count": 35,
     "metadata": {},
     "output_type": "execute_result"
    }
   ],
   "source": [
    "array\n",
    "array[3:]"
   ]
  },
  {
   "cell_type": "code",
   "execution_count": 36,
   "id": "f6a369cf-f278-42ae-97e2-c42e0b991a8c",
   "metadata": {},
   "outputs": [
    {
     "data": {
      "text/plain": [
       "array([ 4,  8, 15, 16])"
      ]
     },
     "execution_count": 36,
     "metadata": {},
     "output_type": "execute_result"
    }
   ],
   "source": [
    "array[:3+1]"
   ]
  },
  {
   "cell_type": "code",
   "execution_count": 37,
   "id": "af475d66-bfa1-4b97-a174-7a67db06f6cf",
   "metadata": {},
   "outputs": [
    {
     "data": {
      "text/plain": [
       "array([ 4,  8, 15, 16, 23, 42])"
      ]
     },
     "execution_count": 37,
     "metadata": {},
     "output_type": "execute_result"
    }
   ],
   "source": [
    "array[:82]"
   ]
  },
  {
   "cell_type": "code",
   "execution_count": null,
   "id": "cb8f7048-5c29-47f0-88f7-bb4af333b844",
   "metadata": {},
   "outputs": [],
   "source": []
  }
 ],
 "metadata": {
  "kernelspec": {
   "display_name": "LYH-ML",
   "language": "python",
   "name": "ml"
  },
  "language_info": {
   "codemirror_mode": {
    "name": "ipython",
    "version": 3
   },
   "file_extension": ".py",
   "mimetype": "text/x-python",
   "name": "python",
   "nbconvert_exporter": "python",
   "pygments_lexer": "ipython3",
   "version": "3.8.15"
  }
 },
 "nbformat": 4,
 "nbformat_minor": 5
}
