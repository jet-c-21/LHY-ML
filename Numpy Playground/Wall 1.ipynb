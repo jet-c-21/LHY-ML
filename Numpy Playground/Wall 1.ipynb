{
 "cells": [
  {
   "cell_type": "code",
   "execution_count": 1,
   "id": "9168e91b-91e0-4dbe-ba09-07178a29e342",
   "metadata": {},
   "outputs": [],
   "source": [
    "from IPython.core.interactiveshell import InteractiveShell\n",
    "\n",
    "InteractiveShell.ast_node_interactivity = \"all\"\n",
    "\n",
    "import numpy as np\n",
    "import sympy as sp\n",
    "import matplotlib.pyplot as plt"
   ]
  },
  {
   "cell_type": "code",
   "execution_count": 3,
   "id": "820a4f4c-242a-4c3a-86ca-0a9612a76fb8",
   "metadata": {},
   "outputs": [
    {
     "data": {
      "text/latex": [
       "$\\displaystyle x^{(0)}_{0}$"
      ],
      "text/plain": [
       "x^(0)_0"
      ]
     },
     "execution_count": 3,
     "metadata": {},
     "output_type": "execute_result"
    }
   ],
   "source": [
    "sp.Symbol(f\"x^({0})_{0}\")"
   ]
  },
  {
   "cell_type": "code",
   "execution_count": 11,
   "id": "69a69858-eb80-4c9a-98c9-1808c6e52605",
   "metadata": {},
   "outputs": [],
   "source": [
    "x = []\n",
    "for i in range(3):\n",
    "    row = [sp.Symbol(f\"x^({i})_{j}\") for j in range(4)]\n",
    "    x.append(row)\n",
    "x = np.array(x)\n",
    "\n",
    "y = [sp.Symbol(f\"y_{i}\") for i in range(3)]\n",
    "\n",
    "w = [sp.Symbol(f\"w_{i}\") for i in range(4)]\n",
    "\n",
    "b = sp.Symbol('b')"
   ]
  },
  {
   "cell_type": "code",
   "execution_count": 12,
   "id": "b5e90b35-42db-4ea9-aeec-465615b61a1c",
   "metadata": {},
   "outputs": [
    {
     "data": {
      "text/latex": [
       "$\\displaystyle \\left[\\begin{matrix}x^{(0)}_{0} & x^{(0)}_{1} & x^{(0)}_{2} & x^{(0)}_{3}\\\\x^{(1)}_{0} & x^{(1)}_{1} & x^{(1)}_{2} & x^{(1)}_{3}\\\\x^{(2)}_{0} & x^{(2)}_{1} & x^{(2)}_{2} & x^{(2)}_{3}\\end{matrix}\\right]$"
      ],
      "text/plain": [
       "Matrix([\n",
       "[x^(0)_0, x^(0)_1, x^(0)_2, x^(0)_3],\n",
       "[x^(1)_0, x^(1)_1, x^(1)_2, x^(1)_3],\n",
       "[x^(2)_0, x^(2)_1, x^(2)_2, x^(2)_3]])"
      ]
     },
     "execution_count": 12,
     "metadata": {},
     "output_type": "execute_result"
    },
    {
     "data": {
      "text/latex": [
       "$\\displaystyle \\left[\\begin{matrix}y_{0}\\\\y_{1}\\\\y_{2}\\end{matrix}\\right]$"
      ],
      "text/plain": [
       "Matrix([\n",
       "[y_0],\n",
       "[y_1],\n",
       "[y_2]])"
      ]
     },
     "execution_count": 12,
     "metadata": {},
     "output_type": "execute_result"
    },
    {
     "data": {
      "text/latex": [
       "$\\displaystyle \\left[\\begin{matrix}w_{0}\\\\w_{1}\\\\w_{2}\\\\w_{3}\\end{matrix}\\right]$"
      ],
      "text/plain": [
       "Matrix([\n",
       "[w_0],\n",
       "[w_1],\n",
       "[w_2],\n",
       "[w_3]])"
      ]
     },
     "execution_count": 12,
     "metadata": {},
     "output_type": "execute_result"
    },
    {
     "data": {
      "text/latex": [
       "$\\displaystyle b$"
      ],
      "text/plain": [
       "b"
      ]
     },
     "execution_count": 12,
     "metadata": {},
     "output_type": "execute_result"
    }
   ],
   "source": [
    "sp.Matrix(x)\n",
    "sp.Matrix(y)\n",
    "sp.Matrix(w)\n",
    "b"
   ]
  },
  {
   "cell_type": "code",
   "execution_count": 15,
   "id": "603882de-56c1-4ca5-8d8c-3b06406fafcf",
   "metadata": {},
   "outputs": [
    {
     "data": {
      "text/latex": [
       "$\\displaystyle \\left[\\begin{matrix}b + w_{0} x^{(0)}_{0} + w_{1} x^{(0)}_{1} + w_{2} x^{(0)}_{2} + w_{3} x^{(0)}_{3} - y_{0}\\\\b + w_{0} x^{(1)}_{0} + w_{1} x^{(1)}_{1} + w_{2} x^{(1)}_{2} + w_{3} x^{(1)}_{3} - y_{1}\\\\b + w_{0} x^{(2)}_{0} + w_{1} x^{(2)}_{1} + w_{2} x^{(2)}_{2} + w_{3} x^{(2)}_{3} - y_{2}\\end{matrix}\\right]$"
      ],
      "text/plain": [
       "Matrix([\n",
       "[b + w_0*x^(0)_0 + w_1*x^(0)_1 + w_2*x^(0)_2 + w_3*x^(0)_3 - y_0],\n",
       "[b + w_0*x^(1)_0 + w_1*x^(1)_1 + w_2*x^(1)_2 + w_3*x^(1)_3 - y_1],\n",
       "[b + w_0*x^(2)_0 + w_1*x^(2)_1 + w_2*x^(2)_2 + w_3*x^(2)_3 - y_2]])"
      ]
     },
     "execution_count": 15,
     "metadata": {},
     "output_type": "execute_result"
    }
   ],
   "source": [
    "sp.Matrix((x.dot(w) + b) - y)"
   ]
  },
  {
   "cell_type": "code",
   "execution_count": 20,
   "id": "5da48810-9f79-4f5e-b4d5-9f5d88933345",
   "metadata": {},
   "outputs": [],
   "source": [
    "e = [sp.Symbol(f\"e^({i})\") for i in range(3)]"
   ]
  },
  {
   "cell_type": "code",
   "execution_count": 21,
   "id": "6e27379b-ae4f-4441-9c61-04a054c36c83",
   "metadata": {},
   "outputs": [
    {
     "data": {
      "text/latex": [
       "$\\displaystyle \\left[\\begin{matrix}e^{(0)} x^{(0)}_{0} + e^{(1)} x^{(1)}_{0} + e^{(2)} x^{(2)}_{0}\\\\e^{(0)} x^{(0)}_{1} + e^{(1)} x^{(1)}_{1} + e^{(2)} x^{(2)}_{1}\\\\e^{(0)} x^{(0)}_{2} + e^{(1)} x^{(1)}_{2} + e^{(2)} x^{(2)}_{2}\\\\e^{(0)} x^{(0)}_{3} + e^{(1)} x^{(1)}_{3} + e^{(2)} x^{(2)}_{3}\\end{matrix}\\right]$"
      ],
      "text/plain": [
       "Matrix([\n",
       "[e^(0)*x^(0)_0 + e^(1)*x^(1)_0 + e^(2)*x^(2)_0],\n",
       "[e^(0)*x^(0)_1 + e^(1)*x^(1)_1 + e^(2)*x^(2)_1],\n",
       "[e^(0)*x^(0)_2 + e^(1)*x^(1)_2 + e^(2)*x^(2)_2],\n",
       "[e^(0)*x^(0)_3 + e^(1)*x^(1)_3 + e^(2)*x^(2)_3]])"
      ]
     },
     "execution_count": 21,
     "metadata": {},
     "output_type": "execute_result"
    }
   ],
   "source": [
    "sp.Matrix(x.T.dot(e))"
   ]
  },
  {
   "cell_type": "code",
   "execution_count": 22,
   "id": "339ffc1d-d308-4d83-87bc-9c129c3fed78",
   "metadata": {},
   "outputs": [
    {
     "data": {
      "text/latex": [
       "$\\displaystyle \\left[\\begin{matrix}e^{(0)} x^{(0)}_{0} + e^{(1)} x^{(1)}_{0} + e^{(2)} x^{(2)}_{0}\\\\e^{(0)} x^{(0)}_{1} + e^{(1)} x^{(1)}_{1} + e^{(2)} x^{(2)}_{1}\\\\e^{(0)} x^{(0)}_{2} + e^{(1)} x^{(1)}_{2} + e^{(2)} x^{(2)}_{2}\\\\e^{(0)} x^{(0)}_{3} + e^{(1)} x^{(1)}_{3} + e^{(2)} x^{(2)}_{3}\\end{matrix}\\right]$"
      ],
      "text/plain": [
       "Matrix([\n",
       "[e^(0)*x^(0)_0 + e^(1)*x^(1)_0 + e^(2)*x^(2)_0],\n",
       "[e^(0)*x^(0)_1 + e^(1)*x^(1)_1 + e^(2)*x^(2)_1],\n",
       "[e^(0)*x^(0)_2 + e^(1)*x^(1)_2 + e^(2)*x^(2)_2],\n",
       "[e^(0)*x^(0)_3 + e^(1)*x^(1)_3 + e^(2)*x^(2)_3]])"
      ]
     },
     "execution_count": 22,
     "metadata": {},
     "output_type": "execute_result"
    }
   ],
   "source": [
    "sp.Matrix(x.T @ (e))"
   ]
  },
  {
   "cell_type": "code",
   "execution_count": null,
   "id": "439ef898-4be8-4f8a-96c9-55b768e19c7a",
   "metadata": {},
   "outputs": [],
   "source": []
  }
 ],
 "metadata": {
  "kernelspec": {
   "display_name": "LYH-ML",
   "language": "python",
   "name": "ml"
  },
  "language_info": {
   "codemirror_mode": {
    "name": "ipython",
    "version": 3
   },
   "file_extension": ".py",
   "mimetype": "text/x-python",
   "name": "python",
   "nbconvert_exporter": "python",
   "pygments_lexer": "ipython3",
   "version": "3.8.15"
  }
 },
 "nbformat": 4,
 "nbformat_minor": 5
}
