{
 "cells": [
  {
   "cell_type": "code",
   "execution_count": 1,
   "id": "382ca919-be75-4c4d-b1bb-bb7e687a20d8",
   "metadata": {},
   "outputs": [],
   "source": [
    "import numpy as np\n",
    "import pandas as pd\n",
    "# from andrew_ng import gradient_descent\n",
    "from sklearn.metrics import accuracy_score\n",
    "from sklearn.preprocessing import StandardScaler\n",
    "\n",
    "from logistic_regression import LogisticRegressionAdaGrad"
   ]
  },
  {
   "cell_type": "code",
   "execution_count": 2,
   "id": "7b5c070b-9604-48e5-8af7-d0e27ecd2952",
   "metadata": {},
   "outputs": [],
   "source": [
    "train_raw_csv_path = 'data/train.csv'\n",
    "test_raw_csv_path = 'data/test.csv'\n",
    "\n",
    "train_raw_df = pd.read_csv(train_raw_csv_path)\n",
    "test_raw_df = pd.read_csv(test_raw_csv_path)\n",
    "\n",
    "train_x_csv_path = 'data/format/X_train'\n",
    "train_x_df = pd.read_csv(train_x_csv_path)\n",
    "\n",
    "train_y_csv_path = 'data/format/Y_train'\n",
    "train_y_df = pd.read_csv(train_y_csv_path)\n",
    "\n",
    "test_x_csv_path = 'data/format/X_test'\n",
    "test_x_df = pd.read_csv(test_x_csv_path)"
   ]
  },
  {
   "cell_type": "code",
   "execution_count": 3,
   "id": "99630d81-5091-40fd-a595-42677f405fbf",
   "metadata": {},
   "outputs": [
    {
     "name": "stdout",
     "output_type": "stream",
     "text": [
      "train_x shape: (32561, 106)\n",
      "train_y shape: (32561, 1), class distribution: (array([0, 1]), array([24720,  7841]))\n",
      "test_x shape: (16281, 106)\n"
     ]
    }
   ],
   "source": [
    "train_x = train_x_df.values\n",
    "train_y = train_y_df.values\n",
    "test_x = test_x_df.values\n",
    "\n",
    "print(f\"train_x shape: {train_x.shape}\")\n",
    "print(f\"train_y shape: {train_y.shape}, class distribution: {np.unique(train_y, return_counts=True)}\")\n",
    "print(f\"test_x shape: {test_x.shape}\")"
   ]
  },
  {
   "cell_type": "markdown",
   "id": "99b693e2-60ec-46cd-bf4d-4ff327883465",
   "metadata": {},
   "source": [
    "# Normalize Train Data"
   ]
  },
  {
   "cell_type": "code",
   "execution_count": 4,
   "id": "4ff6e65c-4a5a-41d0-8b3a-518c5248d99e",
   "metadata": {},
   "outputs": [],
   "source": [
    "scaler = StandardScaler()\n",
    "train_x_norm = scaler.fit_transform(train_x)\n",
    "test_x_norm = scaler.transform(test_x)"
   ]
  },
  {
   "cell_type": "code",
   "execution_count": 10,
   "id": "9b644a17-7db3-49e4-8476-a1f276214040",
   "metadata": {},
   "outputs": [
    {
     "name": "stdout",
     "output_type": "stream",
     "text": [
      "Iteration    0: Cost    0.697   Acc:    0.703\n",
      "Iteration  300: Cost    0.317   Acc:    0.852\n",
      "Iteration  600: Cost    0.316   Acc:    0.854\n",
      "Iteration  900: Cost    0.316   Acc:    0.854\n",
      "Iteration 1200: Cost    0.316   Acc:    0.854\n",
      "Iteration 1500: Cost    0.316   Acc:    0.853\n",
      "Iteration 1800: Cost    0.316   Acc:    0.853\n",
      "Iteration 2100: Cost    0.316   Acc:    0.853\n",
      "Iteration 2400: Cost    0.316   Acc:    0.853\n",
      "Iteration 2700: Cost    0.316   Acc:    0.853\n"
     ]
    }
   ],
   "source": [
    "lgstc_reg = LogisticRegressionAdaGrad(3000, lr=1.5, lambda_=10)\n",
    "lgstc_reg.fit(train_x_norm, train_y)"
   ]
  },
  {
   "cell_type": "code",
   "execution_count": 6,
   "id": "5b7e6d9c-c82c-4ce4-ad43-6fd59964ac4d",
   "metadata": {},
   "outputs": [
    {
     "name": "stdout",
     "output_type": "stream",
     "text": [
      "train accuracy: 0.853\n",
      "label dist = (array([0, 1]), array([24720,  7841]))\n",
      "pred dist = (array([0., 1.]), array([26151,  6410]))\n"
     ]
    }
   ],
   "source": [
    "train_pred = lgstc_reg.predict(train_x_norm)\n",
    "\n",
    "train_acc = accuracy_score(train_y, train_pred)\n",
    "print(f\"train accuracy: {train_acc:3.3f}\")\n",
    "print(f\"label dist = {np.unique(train_y, return_counts=True)}\")\n",
    "print(f\"pred dist = {np.unique(train_pred, return_counts=True)}\")"
   ]
  },
  {
   "cell_type": "code",
   "execution_count": null,
   "id": "01f6105d-30fc-4fcc-86c0-ca7c7c755227",
   "metadata": {},
   "outputs": [],
   "source": []
  },
  {
   "cell_type": "code",
   "execution_count": null,
   "id": "244c658d-a00c-418e-b2df-3375b10f9be2",
   "metadata": {},
   "outputs": [],
   "source": []
  }
 ],
 "metadata": {
  "kernelspec": {
   "display_name": "LYH-ML",
   "language": "python",
   "name": "ml"
  },
  "language_info": {
   "codemirror_mode": {
    "name": "ipython",
    "version": 3
   },
   "file_extension": ".py",
   "mimetype": "text/x-python",
   "name": "python",
   "nbconvert_exporter": "python",
   "pygments_lexer": "ipython3",
   "version": "3.8.15"
  }
 },
 "nbformat": 4,
 "nbformat_minor": 5
}
