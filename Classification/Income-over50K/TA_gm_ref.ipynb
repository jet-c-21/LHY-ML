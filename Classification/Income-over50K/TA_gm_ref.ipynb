{
 "cells": [
  {
   "cell_type": "code",
   "execution_count": 1,
   "id": "4431dd1c-f100-41e6-b64c-54482c568c8f",
   "metadata": {},
   "outputs": [],
   "source": [
    "from IPython.core.interactiveshell import InteractiveShell\n",
    "InteractiveShell.ast_node_interactivity = \"all\"\n",
    "\n",
    "import numpy as np\n",
    "import pandas as pd\n",
    "import csv\n",
    "import sys\n",
    "\n",
    "from sklearn.metrics import mean_squared_error, accuracy_score\n",
    "from generative_model import GenerativeModel as MyGM"
   ]
  },
  {
   "cell_type": "code",
   "execution_count": 2,
   "id": "19a47509-f358-4faa-973d-2bcea5ff65dc",
   "metadata": {},
   "outputs": [],
   "source": [
    "train_x_csv_path = 'data/format/X_train'\n",
    "train_x_df = pd.read_csv(train_x_csv_path)\n",
    "train_y_csv_path = 'data/format/Y_train'\n",
    "train_y_df = pd.read_csv(train_y_csv_path)\n",
    "test_x_csv_path = 'data/format/X_test'\n",
    "test_x_df = pd.read_csv(test_x_csv_path)\n",
    "train_x = train_x_df.values\n",
    "train_y = train_y_df.values\n",
    "test_x = test_x_df.values"
   ]
  },
  {
   "cell_type": "code",
   "execution_count": 3,
   "id": "b1e49100-4ac9-4eb5-801d-b1f54c0cd612",
   "metadata": {},
   "outputs": [],
   "source": [
    "dim = 106\n",
    "\n",
    "def sigmoid(z):\n",
    "    res = 1 / (1.0 + np.exp(-z))\n",
    "    return np.clip(res, 0.00000000000001, 0.99999999999999)\n",
    "\n",
    "\n",
    "def predict(X_test, mu1, mu2, shared_sigma, N1, N2):\n",
    "    sigma_inverse = np.linalg.pinv(shared_sigma)\n",
    "    w = np.dot((mu1 - mu2), sigma_inverse)\n",
    "    x = X_test.T\n",
    "    b = (-0.5) * np.dot(np.dot(mu1, sigma_inverse), mu1) + (0.5) * np.dot(np.dot(mu2, sigma_inverse), mu2) + np.log(\n",
    "        float(N1) / N2)\n",
    "    a = np.dot(w, x) + b\n",
    "    y = sigmoid(a)\n",
    "    return y\n",
    "\n",
    "\n",
    "def train(X_train, Y_train):\n",
    "    # gaussian distribution parameters\n",
    "    train_data_size = X_train.shape[0]\n",
    "    cnt1 = 0\n",
    "    cnt2 = 0\n",
    "\n",
    "    mu1 = np.zeros((dim,))\n",
    "    mu2 = np.zeros((dim,))\n",
    "    for i in range(train_data_size):\n",
    "        if Y_train[i] == 1:\n",
    "            mu1 += X_train[i]\n",
    "            cnt1 += 1\n",
    "        else:\n",
    "            mu2 += X_train[i]\n",
    "            cnt2 += 1\n",
    "    mu1 /= cnt1\n",
    "    mu2 /= cnt2\n",
    "\n",
    "    sigma1 = np.zeros((dim, dim))\n",
    "    sigma2 = np.zeros((dim, dim))\n",
    "    for i in range(train_data_size):\n",
    "        if Y_train[i] == 1:\n",
    "            sigma1 += np.dot(np.transpose([X_train[i] - mu1]), [(X_train[i] - mu1)])\n",
    "        else:\n",
    "            sigma2 += np.dot(np.transpose([X_train[i] - mu2]), [(X_train[i] - mu2)])\n",
    "    sigma1 /= cnt1\n",
    "    sigma2 /= cnt2\n",
    "    shared_sigma = (float(cnt1) / train_data_size) * sigma1 + (float(cnt2) / train_data_size) * sigma2\n",
    "    return (mu1, mu2, shared_sigma, cnt1, cnt2)\n",
    "\n",
    "def ta_predict():\n",
    "    mu1, mu2, shared_sigma, N1, N2 = train(train_x, train_y)\n",
    "    ta_train_pred = np.around(predict(train_x, mu1, mu2, shared_sigma, N1, N2))\n",
    "    acc = round(accuracy_score(train_y, ta_train_pred), 6)\n",
    "    print(f\"ta train acc = {acc}\")\n",
    "    \n",
    "    \n",
    "    y = predict(test_x, mu1, mu2, shared_sigma, N1, N2)\n",
    "    return np.around(y)"
   ]
  },
  {
   "cell_type": "code",
   "execution_count": 4,
   "id": "9d86f24d-c06e-41f6-91a8-f3222957b56f",
   "metadata": {},
   "outputs": [
    {
     "name": "stdout",
     "output_type": "stream",
     "text": [
      "ta train acc = 0.842173\n"
     ]
    }
   ],
   "source": [
    "ta_pred = ta_predict()"
   ]
  },
  {
   "cell_type": "code",
   "execution_count": 5,
   "id": "9095982f-1805-4375-834a-ed7e985b2cdd",
   "metadata": {},
   "outputs": [
    {
     "data": {
      "text/plain": [
       "array([0., 0., 0., ..., 1., 0., 1.])"
      ]
     },
     "execution_count": 5,
     "metadata": {},
     "output_type": "execute_result"
    }
   ],
   "source": [
    "ta_pred"
   ]
  },
  {
   "cell_type": "code",
   "execution_count": 6,
   "id": "76242726-2ac7-4cc3-aad1-57e0d9a4161f",
   "metadata": {},
   "outputs": [
    {
     "data": {
      "text/plain": [
       "array([0., 0., 0., ..., 1., 0., 1.])"
      ]
     },
     "execution_count": 6,
     "metadata": {},
     "output_type": "execute_result"
    }
   ],
   "source": [
    "my_gm = MyGM()\n",
    "my_gm.fit(train_x, train_y)\n",
    "my_pred = my_gm.predict(test_x)\n",
    "my_pred"
   ]
  },
  {
   "cell_type": "code",
   "execution_count": 7,
   "id": "8a120013-1ae9-40b7-bfaf-2c679ff9819b",
   "metadata": {},
   "outputs": [
    {
     "data": {
      "text/plain": [
       "True"
      ]
     },
     "execution_count": 7,
     "metadata": {},
     "output_type": "execute_result"
    }
   ],
   "source": [
    "np.array_equal(my_pred, ta_pred)"
   ]
  },
  {
   "cell_type": "code",
   "execution_count": 8,
   "id": "edd95d43-b151-4b7d-8bfd-b559ec6effe9",
   "metadata": {},
   "outputs": [
    {
     "data": {
      "text/plain": [
       "0"
      ]
     },
     "execution_count": 8,
     "metadata": {},
     "output_type": "execute_result"
    }
   ],
   "source": [
    "count = 0\n",
    "for a, b in zip(my_pred, ta_pred):\n",
    "    if a != b:\n",
    "        count += 1\n",
    "count"
   ]
  },
  {
   "cell_type": "code",
   "execution_count": 9,
   "id": "469b9347-7242-4333-9752-01846083e4ad",
   "metadata": {},
   "outputs": [
    {
     "data": {
      "text/plain": [
       "0.842173"
      ]
     },
     "execution_count": 9,
     "metadata": {},
     "output_type": "execute_result"
    }
   ],
   "source": [
    "round(accuracy_score(train_y, my_gm.predict(train_x)), 6)"
   ]
  },
  {
   "cell_type": "code",
   "execution_count": null,
   "id": "cb413c63-2c45-4452-af78-a314e96256dc",
   "metadata": {},
   "outputs": [],
   "source": []
  }
 ],
 "metadata": {
  "kernelspec": {
   "display_name": "LYH-ML",
   "language": "python",
   "name": "ml"
  },
  "language_info": {
   "codemirror_mode": {
    "name": "ipython",
    "version": 3
   },
   "file_extension": ".py",
   "mimetype": "text/x-python",
   "name": "python",
   "nbconvert_exporter": "python",
   "pygments_lexer": "ipython3",
   "version": "3.8.15"
  }
 },
 "nbformat": 4,
 "nbformat_minor": 5
}
