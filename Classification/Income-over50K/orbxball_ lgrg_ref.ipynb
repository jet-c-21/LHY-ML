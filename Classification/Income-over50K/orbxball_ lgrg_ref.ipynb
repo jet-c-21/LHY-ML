{
 "cells": [
  {
   "cell_type": "code",
   "execution_count": 2,
   "id": "382ca919-be75-4c4d-b1bb-bb7e687a20d8",
   "metadata": {},
   "outputs": [],
   "source": [
    "import numpy as np\n",
    "import pandas as pd\n",
    "from andrew_ng import gradient_descent"
   ]
  },
  {
   "cell_type": "code",
   "execution_count": 3,
   "id": "7b5c070b-9604-48e5-8af7-d0e27ecd2952",
   "metadata": {},
   "outputs": [],
   "source": [
    "train_raw_csv_path = 'data/train.csv'\n",
    "test_raw_csv_path = 'data/test.csv'\n",
    "\n",
    "train_raw_df = pd.read_csv(train_raw_csv_path)\n",
    "test_raw_df = pd.read_csv(test_raw_csv_path)\n",
    "\n",
    "train_x_csv_path = 'data/format/X_train'\n",
    "train_x_df = pd.read_csv(train_x_csv_path)\n",
    "\n",
    "train_y_csv_path = 'data/format/Y_train'\n",
    "train_y_df = pd.read_csv(train_y_csv_path)\n",
    "\n",
    "test_x_csv_path = 'data/format/X_test'\n",
    "test_x_df = pd.read_csv(test_x_csv_path)"
   ]
  },
  {
   "cell_type": "code",
   "execution_count": 4,
   "id": "99630d81-5091-40fd-a595-42677f405fbf",
   "metadata": {},
   "outputs": [
    {
     "name": "stdout",
     "output_type": "stream",
     "text": [
      "train_x shape: (32561, 106)\n",
      "train_y shape: (32561, 1), class distribution: (array([0, 1]), array([24720,  7841]))\n",
      "test_x shape: (16281, 106)\n"
     ]
    }
   ],
   "source": [
    "train_x = train_x_df.values\n",
    "train_y = train_y_df.values\n",
    "test_x = test_x_df.values\n",
    "\n",
    "print(f\"train_x shape: {train_x.shape}\")\n",
    "print(f\"train_y shape: {train_y.shape}, class distribution: {np.unique(train_y, return_counts=True)}\")\n",
    "print(f\"test_x shape: {test_x.shape}\")"
   ]
  },
  {
   "cell_type": "code",
   "execution_count": 5,
   "id": "4ff6e65c-4a5a-41d0-8b3a-518c5248d99e",
   "metadata": {},
   "outputs": [],
   "source": [
    "# m, n = train_x.shape\n",
    "# w_init = np.zeros(n)\n",
    "# b_init = 0\n",
    "# alpha = 1e-5\n",
    "# n_iter = 3000\n",
    "# ng_w, ng_b, ng_hist = gradient_descent(train_x, train_y, w_init, b_init, alpha, n_iter, logistic=True)"
   ]
  },
  {
   "cell_type": "code",
   "execution_count": 10,
   "id": "9b644a17-7db3-49e4-8476-a1f276214040",
   "metadata": {},
   "outputs": [
    {
     "name": "stderr",
     "output_type": "stream",
     "text": [
      "/tmp/ipykernel_98219/1916035642.py:16: RuntimeWarning: overflow encountered in exp\n",
      "  return 1 / (1 + np.exp(-1 * z))\n"
     ]
    },
    {
     "name": "stdout",
     "output_type": "stream",
     "text": [
      "epoch:100\n",
      " Loss:48.87591176046241\n",
      " Accuracy:78.71686987500384%\n",
      "\n",
      "epoch:200\n",
      " Loss:174.80387327115074\n",
      " Accuracy:24.080955744602438%\n",
      "\n",
      "epoch:300\n",
      " Loss:50.287583059844955\n",
      " Accuracy:78.13642087159485%\n",
      "\n",
      "epoch:400\n",
      " Loss:48.502704841343096\n",
      " Accuracy:78.77829304996776%\n",
      "\n",
      "epoch:500\n",
      " Loss:174.14170298677595\n",
      " Accuracy:24.080955744602438%\n",
      "\n",
      "epoch:600\n",
      " Loss:48.00127858927236\n",
      " Accuracy:78.73222566874482%\n",
      "\n",
      "epoch:700\n",
      " Loss:48.75533550984154\n",
      " Accuracy:78.71994103375204%\n",
      "\n",
      "epoch:800\n",
      " Loss:47.62523579639124\n",
      " Accuracy:78.63701974755075%\n",
      "\n",
      "epoch:900\n",
      " Loss:46.789845187345364\n",
      " Accuracy:79.48465956205277%\n",
      "\n",
      "epoch:1000\n",
      " Loss:46.609805066296055\n",
      " Accuracy:79.3096035134056%\n",
      "\n",
      "epoch:1100\n",
      " Loss:50.386400858750804\n",
      " Accuracy:78.03507263290439%\n",
      "\n",
      "epoch:1200\n",
      " Loss:49.60196978659855\n",
      " Accuracy:78.34833082522036%\n",
      "\n",
      "epoch:1300\n",
      " Loss:46.6155222081298\n",
      " Accuracy:78.64316206504714%\n",
      "\n",
      "epoch:1400\n",
      " Loss:46.41372845782804\n",
      " Accuracy:78.80593347870152%\n",
      "\n",
      "epoch:1500\n",
      " Loss:46.479213359559296\n",
      " Accuracy:79.52458462577931%\n",
      "\n",
      "epoch:1600\n",
      " Loss:40.8816915324254\n",
      " Accuracy:76.61926844998618%\n",
      "\n",
      "epoch:1700\n",
      " Loss:45.55000223904706\n",
      " Accuracy:79.46316145081539%\n",
      "\n",
      "epoch:1800\n",
      " Loss:45.3184335213654\n",
      " Accuracy:79.58600780074322%\n",
      "\n",
      "epoch:1900\n",
      " Loss:48.63639753811537\n",
      " Accuracy:78.69844292251466%\n",
      "\n",
      "epoch:2000\n",
      " Loss:48.25535117208461\n",
      " Accuracy:78.82436043119068%\n",
      "\n",
      "epoch:2100\n",
      " Loss:45.969511020236546\n",
      " Accuracy:79.50308651454193%\n",
      "\n",
      "epoch:2200\n",
      " Loss:46.808866982275205\n",
      " Accuracy:79.36181321212493%\n",
      "\n",
      "epoch:2300\n",
      " Loss:50.2986173935222\n",
      " Accuracy:78.04121495040079%\n",
      "\n",
      "epoch:2400\n",
      " Loss:49.024146911305536\n",
      " Accuracy:78.48346181014097%\n",
      "\n",
      "epoch:2500\n",
      " Loss:45.352230054957566\n",
      " Accuracy:78.311476920242%\n",
      "\n",
      "epoch:2600\n",
      " Loss:50.01006454978878\n",
      " Accuracy:78.18248825281779%\n",
      "\n",
      "epoch:2700\n",
      " Loss:47.40467776644465\n",
      " Accuracy:79.04548386106077%\n",
      "\n",
      "epoch:2800\n",
      " Loss:45.290597748696825\n",
      " Accuracy:79.58907895949142%\n",
      "\n",
      "==============================\n",
      "(array([0., 1.]), array([28003,  4558]))\n",
      "0.7838211357145051\n"
     ]
    }
   ],
   "source": [
    "import numpy as np\n",
    "from sklearn.metrics import accuracy_score\n",
    "\n",
    "X_train = train_x\n",
    "Y_train = train_y.reshape(-1)\n",
    "\n",
    "b = 0.0\n",
    "w = np.ones(X_train.shape[1])\n",
    "lr = 5e-1\n",
    "epoch = 2800\n",
    "b_lr = 0.0\n",
    "w_lr = np.zeros(X_train.shape[1])\n",
    "\n",
    "\n",
    "def sigmoid(z):\n",
    "    return 1 / (1 + np.exp(-1 * z))\n",
    "\n",
    "\n",
    "for e in range(epoch):\n",
    "    # Calculate the value of error for loss function\n",
    "    z = np.dot(X_train, w) + b  # shape: (32561,)\n",
    "    f = sigmoid(z)  # shape: (32561,)\n",
    "    error = Y_train - f  # shape: (32561,)\n",
    "\n",
    "    # Calculate gradient\n",
    "    b_grad = -np.sum(error) * 1  # shape: ()\n",
    "    w_grad = -np.dot(error.T, X_train)  # shape: (X_train.shape[1],)\n",
    "    b_lr = b_lr + b_grad ** 2\n",
    "    w_lr = w_lr + w_grad ** 2\n",
    "\n",
    "    # calculate loss = cross entropy\n",
    "    loss = -np.mean(Y_train * np.log(f + 1e-100) + (1 - Y_train) * np.log(1 - f + 1e-100))\n",
    "\n",
    "    # Update parameters.\n",
    "    b = b - lr / np.sqrt(b_lr) * b_grad\n",
    "    w = w - lr / np.sqrt(w_lr) * w_grad\n",
    "\n",
    "    # Print loss\n",
    "    if (e + 1) % 100 == 0:\n",
    "        f[f >= 0.5] = 1\n",
    "        f[f < 0.5] = 0\n",
    "        acc = Y_train - f  # shape: (32561,)\n",
    "        acc[acc == 0] = 2\n",
    "        acc[acc != 2] = 0\n",
    "        print('epoch:{}\\n Loss:{}\\n Accuracy:{}%\\n'.format(e + 1, loss, np.sum(acc) * 50 / acc.shape[0]))\n",
    "\n",
    "print('='*30)\n",
    "pred_y = np.round(sigmoid(np.dot(X_train, w) + b))\n",
    "print(np.unique(pred_y, return_counts=True))\n",
    "print(accuracy_score(Y_train, pred_y))"
   ]
  },
  {
   "cell_type": "code",
   "execution_count": 15,
   "id": "5b7e6d9c-c82c-4ce4-ad43-6fd59964ac4d",
   "metadata": {},
   "outputs": [
    {
     "data": {
      "text/plain": [
       "(array([0, 1]), array([24720,  7841]))"
      ]
     },
     "execution_count": 15,
     "metadata": {},
     "output_type": "execute_result"
    }
   ],
   "source": [
    "np.unique(Y_train, return_counts=True)"
   ]
  },
  {
   "cell_type": "code",
   "execution_count": null,
   "id": "01f6105d-30fc-4fcc-86c0-ca7c7c755227",
   "metadata": {},
   "outputs": [],
   "source": []
  },
  {
   "cell_type": "code",
   "execution_count": null,
   "id": "244c658d-a00c-418e-b2df-3375b10f9be2",
   "metadata": {},
   "outputs": [],
   "source": []
  }
 ],
 "metadata": {
  "kernelspec": {
   "display_name": "LYH-ML",
   "language": "python",
   "name": "ml"
  },
  "language_info": {
   "codemirror_mode": {
    "name": "ipython",
    "version": 3
   },
   "file_extension": ".py",
   "mimetype": "text/x-python",
   "name": "python",
   "nbconvert_exporter": "python",
   "pygments_lexer": "ipython3",
   "version": "3.8.15"
  }
 },
 "nbformat": 4,
 "nbformat_minor": 5
}
