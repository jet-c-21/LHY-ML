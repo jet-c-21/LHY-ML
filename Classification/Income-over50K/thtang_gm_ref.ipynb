{
 "cells": [
  {
   "cell_type": "code",
   "execution_count": 1,
   "id": "f8522218-676f-4cfe-9c9e-2fc9106f1987",
   "metadata": {},
   "outputs": [],
   "source": [
    "from IPython.core.interactiveshell import InteractiveShell\n",
    "InteractiveShell.ast_node_interactivity = \"all\"\n",
    "\n",
    "import numpy as np\n",
    "import pandas as pd\n",
    "import csv\n",
    "import sys\n",
    "\n",
    "from sklearn.metrics import mean_squared_error\n",
    "from generative_model import GenerativeModel as MyGM"
   ]
  },
  {
   "cell_type": "code",
   "execution_count": 2,
   "id": "50647a23-142b-402b-af61-03b5cb9fc272",
   "metadata": {},
   "outputs": [],
   "source": [
    "# X_train_path  = 'data/format/X_train'\n",
    "# Y_train_path  = 'data/format/Y_train'\n",
    "# X_test_path  = 'data/format/X_test'\n",
    "\n",
    "# text = open(X_train_path, 'r') \n",
    "# row = csv.reader(text , delimiter=\",\")\n",
    "# X_train = []\n",
    "# for r in row:\n",
    "#     X_train.append(r)\n",
    "\n",
    "# text = open(Y_train_path, 'r') \n",
    "# row = csv.reader(text , delimiter=\",\")\n",
    "# Y_train = []\n",
    "# for r in row:\n",
    "#     Y_train.append(r)\n",
    "\n",
    "# text = open(X_test_path, 'r') \n",
    "# row = csv.reader(text , delimiter=\",\")\n",
    "# X_test = []\n",
    "# for r in row:\n",
    "#     X_test.append(r)\n",
    "\n",
    "# train_X = (np.array(X_train)[1:,]).astype(\"float\")\n",
    "# train_y = np.array(Y_train[1:]).flatten().astype(\"float\")\n",
    "# test_X = (np.array(X_test)[1:,]).astype(\"float\")"
   ]
  },
  {
   "cell_type": "code",
   "execution_count": 3,
   "id": "d64cfe2b-f819-4c66-84b7-1e00afea3017",
   "metadata": {},
   "outputs": [],
   "source": [
    "class GenerativeModel(object):\n",
    "    def __init__(self):\n",
    "        pass\n",
    "        \n",
    "    def fit(self, X,y):\n",
    "        ####### find mean, coveriance matrix of two class ######\n",
    "        # seperate y=0 and y=1\n",
    "        self.c1_ind = np.where(y==1)[0]\n",
    "        self.c2_ind = np.where(y==0)[0]\n",
    "        \n",
    "        # compute stastistic\n",
    "        self.c1_X = X[self.c1_ind,:]\n",
    "        self.c2_X = X[self.c2_ind,:]\n",
    "        self.u1 = np.mean(self.c1_X ,axis=0)\n",
    "        self.u2 = np.mean(self.c2_X ,axis=0)\n",
    "        self.p1 = len(self.c1_ind)/(len(self.c1_ind)+len(self.c2_ind))\n",
    "        self.p2 = 1 - self.p1\n",
    "        self.cov =  np.cov(self.c1_X,rowvar=False) * self.p1 + np.cov(self.c2_X,rowvar=False) * self.p2\n",
    "        self.cov_inv = np.linalg.pinv(self.cov)\n",
    "        \n",
    "    def predict(self, test_X):\n",
    "        z =((test_X).dot(self.cov_inv).dot(self.u1-self.u2)- \n",
    "            (1/2)*(self.u1).dot(self.cov_inv).dot(self.u1)+ (1/2)*(self.u2).dot(self.cov_inv).dot(self.u2)\n",
    "            +np.log(len(self.c1_ind)/len(self.c2_ind)))\n",
    "        \n",
    "        # print(f\"z.shape = {z.shape}\")\n",
    "        \n",
    "        # return self.sigmoid(z)\n",
    "        \n",
    "        return self.sign(self.sigmoid(z))\n",
    "    \n",
    "    def sigmoid(self, z):\n",
    "        res = 1 / (1.0 + np.exp(-z))\n",
    "        return np.clip(res, 1e-9, 1-(1e-9))\n",
    "    \n",
    "    def sign(self, a):\n",
    "        print(a)\n",
    "        output = []\n",
    "        for i in a:\n",
    "            if i>0.5:\n",
    "                output.append(1)\n",
    "            else:\n",
    "                output.append(0)\n",
    "                \n",
    "        return np.array(output)"
   ]
  },
  {
   "cell_type": "code",
   "execution_count": 4,
   "id": "939c48b9-a681-4d94-af84-3b7b37a0c4c2",
   "metadata": {},
   "outputs": [],
   "source": [
    "train_x_csv_path = 'data/format/X_train'\n",
    "train_x_df = pd.read_csv(train_x_csv_path)\n",
    "train_y_csv_path = 'data/format/Y_train'\n",
    "train_y_df = pd.read_csv(train_y_csv_path)\n",
    "test_x_csv_path = 'data/format/X_test'\n",
    "test_x_df = pd.read_csv(test_x_csv_path)\n",
    "train_x = train_x_df.values\n",
    "train_y = train_y_df.values\n",
    "test_x = test_x_df.values"
   ]
  },
  {
   "cell_type": "code",
   "execution_count": 5,
   "id": "c78df19f-cbda-4e22-9e38-1a02507d5ac3",
   "metadata": {},
   "outputs": [
    {
     "name": "stdout",
     "output_type": "stream",
     "text": [
      "[0.0114754  0.11555019 0.37480357 ... 0.73246286 0.15260898 0.89295688]\n"
     ]
    }
   ],
   "source": [
    "gm_ref = GenerativeModel()\n",
    "gm_ref.fit(train_x,train_y)\n",
    "gm_ref_pred = gm_ref.predict(test_x)\n",
    "# np.unique(gm_ref_pred, return_counts=True)"
   ]
  },
  {
   "cell_type": "code",
   "execution_count": 6,
   "id": "91ec523d-d07e-4dc9-89a9-4f63dd005ed0",
   "metadata": {},
   "outputs": [],
   "source": [
    "my_gm = MyGM()\n",
    "my_gm.fit(train_x, train_y)\n",
    "my_pred = my_gm.predict(test_x)"
   ]
  },
  {
   "cell_type": "code",
   "execution_count": 7,
   "id": "b597d9cc-f377-41af-ad0a-31581df3dbb6",
   "metadata": {},
   "outputs": [],
   "source": [
    "# np.mean(my_gm.predict(my_gm.c1))"
   ]
  },
  {
   "cell_type": "code",
   "execution_count": 8,
   "id": "f1a3c4c6-153a-4e24-b6cb-7c1219ebcddc",
   "metadata": {},
   "outputs": [],
   "source": [
    "# np.mean(my_gm.predict(my_gm.c2))"
   ]
  },
  {
   "cell_type": "code",
   "execution_count": null,
   "id": "6fe3d3d8-e042-4e0d-bcc1-326df981382b",
   "metadata": {},
   "outputs": [],
   "source": []
  },
  {
   "cell_type": "code",
   "execution_count": 9,
   "id": "dcba21e5-f734-4334-8086-138a99e0f137",
   "metadata": {},
   "outputs": [
    {
     "data": {
      "text/plain": [
       "True"
      ]
     },
     "execution_count": 9,
     "metadata": {},
     "output_type": "execute_result"
    },
    {
     "data": {
      "text/plain": [
       "True"
      ]
     },
     "execution_count": 9,
     "metadata": {},
     "output_type": "execute_result"
    },
    {
     "data": {
      "text/plain": [
       "True"
      ]
     },
     "execution_count": 9,
     "metadata": {},
     "output_type": "execute_result"
    },
    {
     "name": "stdout",
     "output_type": "stream",
     "text": [
      "7841 7841\n",
      "24720 24720\n"
     ]
    }
   ],
   "source": [
    "np.array_equal(gm_ref.cov, my_gm.sigma)\n",
    "np.array_equal(gm_ref.u1, my_gm.mu_c1)\n",
    "np.array_equal(gm_ref.u2, my_gm.mu_c2)\n",
    "print(len(gm_ref.c1_ind), my_gm.m_c1)\n",
    "print(len(gm_ref.c2_ind), my_gm.m_c2)"
   ]
  },
  {
   "cell_type": "code",
   "execution_count": 10,
   "id": "ecfcc5c5-78f2-41d1-91ee-ac028bdd1d64",
   "metadata": {},
   "outputs": [
    {
     "data": {
      "text/plain": [
       "array([0, 0, 0, ..., 1, 0, 1])"
      ]
     },
     "execution_count": 10,
     "metadata": {},
     "output_type": "execute_result"
    }
   ],
   "source": [
    "my_pred"
   ]
  },
  {
   "cell_type": "code",
   "execution_count": 11,
   "id": "a065380c-9386-4796-8416-fb628e33c07e",
   "metadata": {},
   "outputs": [
    {
     "data": {
      "text/plain": [
       "array([0, 0, 0, ..., 1, 0, 1])"
      ]
     },
     "execution_count": 11,
     "metadata": {},
     "output_type": "execute_result"
    }
   ],
   "source": [
    "gm_ref_pred"
   ]
  },
  {
   "cell_type": "code",
   "execution_count": 12,
   "id": "02665f86-9cd6-4f82-b283-5edd46557fbd",
   "metadata": {},
   "outputs": [
    {
     "data": {
      "text/plain": [
       "6.1e-05"
      ]
     },
     "execution_count": 12,
     "metadata": {},
     "output_type": "execute_result"
    }
   ],
   "source": [
    "round(mean_squared_error(my_pred, gm_ref_pred), 6)"
   ]
  },
  {
   "cell_type": "code",
   "execution_count": 13,
   "id": "2e26770d-4d5b-4d99-88ae-b9c544661e35",
   "metadata": {},
   "outputs": [
    {
     "data": {
      "text/plain": [
       "False"
      ]
     },
     "execution_count": 13,
     "metadata": {},
     "output_type": "execute_result"
    }
   ],
   "source": [
    "np.array_equiv(my_pred, gm_ref_pred)"
   ]
  },
  {
   "cell_type": "code",
   "execution_count": 14,
   "id": "e2675bcd-8c75-4ec7-8819-5242dfe9e726",
   "metadata": {},
   "outputs": [
    {
     "data": {
      "text/plain": [
       "1"
      ]
     },
     "execution_count": 14,
     "metadata": {},
     "output_type": "execute_result"
    }
   ],
   "source": [
    "count = 0\n",
    "for a, b in zip(my_pred, gm_ref_pred):\n",
    "    if a != b:\n",
    "        count += 1\n",
    "count"
   ]
  },
  {
   "cell_type": "code",
   "execution_count": null,
   "id": "9b8f6ead-1d5d-4061-90ed-225e4d5590ca",
   "metadata": {},
   "outputs": [],
   "source": []
  }
 ],
 "metadata": {
  "kernelspec": {
   "display_name": "LYH-ML",
   "language": "python",
   "name": "ml"
  },
  "language_info": {
   "codemirror_mode": {
    "name": "ipython",
    "version": 3
   },
   "file_extension": ".py",
   "mimetype": "text/x-python",
   "name": "python",
   "nbconvert_exporter": "python",
   "pygments_lexer": "ipython3",
   "version": "3.8.15"
  }
 },
 "nbformat": 4,
 "nbformat_minor": 5
}
