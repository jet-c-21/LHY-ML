{
 "cells": [
  {
   "cell_type": "code",
   "execution_count": 1,
   "id": "8603de6f-f5c3-4c60-ab5c-5aa416aff6a6",
   "metadata": {},
   "outputs": [],
   "source": [
    "import sympy as sp"
   ]
  },
  {
   "cell_type": "code",
   "execution_count": 12,
   "id": "962fe8d5-0ee9-47fa-b39b-c4386ce500d9",
   "metadata": {},
   "outputs": [
    {
     "data": {
      "text/latex": [
       "$\\displaystyle \\frac{1}{1 + e^{- z}}$"
      ],
      "text/plain": [
       "1/(1 + exp(-z))"
      ]
     },
     "execution_count": 12,
     "metadata": {},
     "output_type": "execute_result"
    }
   ],
   "source": [
    "z = sp.Symbol('z')\n",
    "simgmoid = 1/(1+sp.exp(-z))\n",
    "\n",
    "simgmoid"
   ]
  },
  {
   "cell_type": "code",
   "execution_count": 13,
   "id": "a8ac37c2-cbe5-4532-9f1a-7f5775d46671",
   "metadata": {},
   "outputs": [
    {
     "data": {
      "text/latex": [
       "$\\displaystyle \\frac{1}{e^{z} + 1}$"
      ],
      "text/plain": [
       "1/(exp(z) + 1)"
      ]
     },
     "execution_count": 13,
     "metadata": {},
     "output_type": "execute_result"
    }
   ],
   "source": [
    "sp.ln(simgmoid).diff(z).simplify()"
   ]
  },
  {
   "cell_type": "code",
   "execution_count": 15,
   "id": "8ee1e487-a6cc-4bb7-a998-77d9e89753e0",
   "metadata": {},
   "outputs": [
    {
     "data": {
      "text/latex": [
       "$\\displaystyle \\frac{1}{e^{z} + 1}$"
      ],
      "text/plain": [
       "1/(exp(z) + 1)"
      ]
     },
     "execution_count": 15,
     "metadata": {},
     "output_type": "execute_result"
    }
   ],
   "source": [
    "(1 - simgmoid).simplify()"
   ]
  },
  {
   "cell_type": "code",
   "execution_count": null,
   "id": "919ead78-196f-4d8a-832f-60f45e9bb79b",
   "metadata": {},
   "outputs": [],
   "source": []
  },
  {
   "cell_type": "code",
   "execution_count": null,
   "id": "479ad861-e3ff-4f27-a5ed-217b690df69e",
   "metadata": {},
   "outputs": [],
   "source": []
  }
 ],
 "metadata": {
  "kernelspec": {
   "display_name": "LYH-ML",
   "language": "python",
   "name": "ml"
  },
  "language_info": {
   "codemirror_mode": {
    "name": "ipython",
    "version": 3
   },
   "file_extension": ".py",
   "mimetype": "text/x-python",
   "name": "python",
   "nbconvert_exporter": "python",
   "pygments_lexer": "ipython3",
   "version": "3.8.15"
  }
 },
 "nbformat": 4,
 "nbformat_minor": 5
}
