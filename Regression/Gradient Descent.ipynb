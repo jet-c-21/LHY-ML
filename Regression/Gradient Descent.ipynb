{
 "cells": [
  {
   "cell_type": "markdown",
   "id": "86bb9a9e-47c0-4ed9-86b4-273d03987d50",
   "metadata": {},
   "source": [
    "# [Gradient Descent Article on KA](https://www.khanacademy.org/math/multivariable-calculus/applications-of-multivariable-derivatives/optimizing-multivariable-functions/a/what-is-gradient-descent)"
   ]
  },
  {
   "cell_type": "code",
   "execution_count": null,
   "id": "6f896264-360d-4a3b-b7b1-0e85a6f51a14",
   "metadata": {},
   "outputs": [],
   "source": [
    "from IPython.core.interactiveshell import InteractiveShell\n",
    "\n",
    "InteractiveShell.ast_node_interactivity = \"all\"\n",
    "\n",
    "import numpy as np\n",
    "import sympy as sp\n",
    "\n",
    "\n",
    "def reset_symbols():\n",
    "    global x, y, z, a, b, c, d, e, f, g, h, r, s, k, t, u, v, w, theta, lmda, rho, phi\n",
    "    x, y, z = sp.symbols(\"x y z\", real=True)\n",
    "    a, b, c, d, e, f, g, h, r, s, k, t, u, v, w = sp.symbols(\n",
    "        \"a b c d e f g h r s k t u v w\", real=True\n",
    "    )\n",
    "\n",
    "    theta = sp.Symbol(\"theta\")\n",
    "    lmda = sp.Symbol(\"lambda\")\n",
    "    rho = sp.Symbol(\"rho\")\n",
    "    phi = sp.Symbol(\"phi\")"
   ]
  },
  {
   "cell_type": "code",
   "execution_count": 2,
   "id": "0f2004d8-8b76-4816-917a-bb35d09f37f5",
   "metadata": {},
   "outputs": [
    {
     "data": {
      "text/latex": [
       "$\\displaystyle \\left(- b - w x + y\\right)^{2}$"
      ],
      "text/plain": [
       "(-b - w*x + y)**2"
      ]
     },
     "execution_count": 2,
     "metadata": {},
     "output_type": "execute_result"
    },
    {
     "data": {
      "text/latex": [
       "$\\displaystyle 2 \\left(b + w x - y\\right)$"
      ],
      "text/plain": [
       "2*(b + w*x - y)"
      ]
     },
     "execution_count": 2,
     "metadata": {},
     "output_type": "execute_result"
    },
    {
     "data": {
      "text/latex": [
       "$\\displaystyle 2 x \\left(b + w x - y\\right)$"
      ],
      "text/plain": [
       "2*x*(b + w*x - y)"
      ]
     },
     "execution_count": 2,
     "metadata": {},
     "output_type": "execute_result"
    }
   ],
   "source": [
    "reset_symbols()\n",
    "loss = (y - (b + w * x)) ** 2\n",
    "loss\n",
    "\n",
    "loss.diff(b).factor()\n",
    "loss.diff(w).factor()"
   ]
  },
  {
   "cell_type": "code",
   "execution_count": 3,
   "id": "0647138d-9945-4ff5-b26c-ad3177651117",
   "metadata": {},
   "outputs": [
    {
     "data": {
      "text/plain": [
       "(10, 10)"
      ]
     },
     "execution_count": 3,
     "metadata": {},
     "output_type": "execute_result"
    }
   ],
   "source": [
    "x_data = [338.0, 333.0, 328.0, 207.0, 226.0, 25.0, 179.0, 60.0, 208.0, 606.0]\n",
    "y_data = [640.0, 633.0, 619.0, 393.0, 428.0, 27.0, 193.0, 66.0, 226.0, 1591.0]\n",
    "\n",
    "# y = b + w * x\n",
    "len(x_data), len(y_data)"
   ]
  },
  {
   "cell_type": "code",
   "execution_count": 4,
   "id": "08244edb-cbec-42dc-9b8f-6ea082688cab",
   "metadata": {},
   "outputs": [],
   "source": [
    "x = np.arange(-200, -100, 1)  # bias\n",
    "y = np.arange(-5, 5, 0.1)  # weight\n",
    "Z = np.zeros((len(x), len(y)))  # 0 (100, 100)\n",
    "\n",
    "X, Y = np.meshgrid(x, y)\n",
    "\n",
    "\n",
    "def predict(x, b, w):\n",
    "    return b + w * x\n",
    "\n",
    "\n",
    "for i in range(len(x)):\n",
    "    for j in range(len(y)):\n",
    "        b = x[i]\n",
    "        w = y[j]\n",
    "\n",
    "        Z[j][i] = 0\n",
    "        for n in range(len(x_data)):\n",
    "            Z[j][i] += (y_data[n] - predict(x_data[n], b, w)) ** 2\n",
    "        Z[j][i] /= len(x_data)\n",
    "\n",
    "        # break\n",
    "\n",
    "    # break"
   ]
  },
  {
   "cell_type": "code",
   "execution_count": 11,
   "id": "3ea9d82d-3329-4c19-ae65-904a1efbfc52",
   "metadata": {},
   "outputs": [],
   "source": [
    "b = -120\n",
    "w = -4\n",
    "lr = 1\n",
    "iteration = 100000\n",
    "\n",
    "b_history = [b]\n",
    "w_history = [w]\n",
    "\n",
    "lr_b = 0\n",
    "lr_w = 0\n",
    "\n",
    "for i in range(iteration):\n",
    "\n",
    "    b_grad = 0.0\n",
    "    w_grad = 0.0\n",
    "\n",
    "    for n in range(len(x_data)):\n",
    "        b_grad += 2.0 * (b + w * x_data[n] - y_data[n])  # 2(b+wx−y)\n",
    "        w_grad += 2.0 * x_data[n] * (b + w * x_data[n] - y_data[n])  # 2x(b+wx−y)\n",
    "\n",
    "    # print(f\"b_grad = {b_grad}, w_grad = {w_grad}\")\n",
    "\n",
    "    # customize lr for each parameter\n",
    "    lr_b = lr_b + b_grad**2\n",
    "    lr_w = lr_w + w_grad**2\n",
    "\n",
    "    # update parameter\n",
    "    b = b - (lr / np.sqrt(lr_b)) * b_grad\n",
    "    w = w - (lr / np.sqrt(lr_w)) * w_grad\n",
    "\n",
    "    # b = b - (lr) * b_grad\n",
    "    # w = w - (lr) * w_grad\n",
    "\n",
    "    # store parameters for plotting\n",
    "    b_history.append(b)\n",
    "    w_history.append(w)"
   ]
  },
  {
   "cell_type": "code",
   "execution_count": 12,
   "id": "72f5ca06-14aa-4f0a-9d4a-4a9b5cf47452",
   "metadata": {},
   "outputs": [],
   "source": [
    "import matplotlib.pyplot as plt"
   ]
  },
  {
   "cell_type": "code",
   "execution_count": 13,
   "id": "fdc192d2-6c4b-4e85-b2ba-11bb8216ce9c",
   "metadata": {},
   "outputs": [
    {
     "data": {
      "text/plain": [
       "<matplotlib.contour.QuadContourSet at 0x7f9b78b1e7c0>"
      ]
     },
     "execution_count": 13,
     "metadata": {},
     "output_type": "execute_result"
    },
    {
     "data": {
      "text/plain": [
       "[<matplotlib.lines.Line2D at 0x7f9b742e92b0>]"
      ]
     },
     "execution_count": 13,
     "metadata": {},
     "output_type": "execute_result"
    },
    {
     "data": {
      "text/plain": [
       "[<matplotlib.lines.Line2D at 0x7f9b742e95e0>]"
      ]
     },
     "execution_count": 13,
     "metadata": {},
     "output_type": "execute_result"
    },
    {
     "data": {
      "text/plain": [
       "(-200.0, -100.0)"
      ]
     },
     "execution_count": 13,
     "metadata": {},
     "output_type": "execute_result"
    },
    {
     "data": {
      "text/plain": [
       "(-5.0, 5.0)"
      ]
     },
     "execution_count": 13,
     "metadata": {},
     "output_type": "execute_result"
    },
    {
     "data": {
      "text/plain": [
       "Text(0.5, 0, '$b$')"
      ]
     },
     "execution_count": 13,
     "metadata": {},
     "output_type": "execute_result"
    },
    {
     "data": {
      "text/plain": [
       "Text(0, 0.5, '$w$')"
      ]
     },
     "execution_count": 13,
     "metadata": {},
     "output_type": "execute_result"
    },
    {
     "data": {
      "image/png": "[encoded data removed]",
      "text/plain": [
       "<Figure size 640x480 with 1 Axes>"
      ]
     },
     "metadata": {},
     "output_type": "display_data"
    }
   ],
   "source": [
    "plt.contourf(x, y, Z, 50, alpha=0.5, cmap=plt.get_cmap(\"jet\"))\n",
    "plt.plot([-188.4], [2.67], \"x\", ms=12, markeredgewidth=3, color=\"orange\")\n",
    "plt.plot(b_history, w_history, \"o-\", ms=3, lw=1.5, color=\"black\")\n",
    "plt.xlim(-200, -100)\n",
    "plt.ylim(-5, 5)\n",
    "\n",
    "plt.xlabel(\"$b$\", fontsize=16)\n",
    "plt.ylabel(\"$w$\", fontsize=16)"
   ]
  },
  {
   "cell_type": "code",
   "execution_count": null,
   "id": "158c0808-67da-44b3-bdb7-c7073d6da673",
   "metadata": {},
   "outputs": [],
   "source": [
    "[\n",
    "    [\"5\", \"3\", \".\", \".\", \"7\", \".\", \".\", \".\", \".\"],\n",
    "    [\"6\", \".\", \".\", \"1\", \"9\", \"5\", \".\", \".\", \".\"],\n",
    "    [\".\", \"9\", \"8\", \".\", \".\", \".\", \".\", \"6\", \".\"],\n",
    "    [\"8\", \".\", \".\", \".\", \"6\", \".\", \".\", \".\", \"3\"],\n",
    "    [\"4\", \".\", \".\", \"8\", \".\", \"3\", \".\", \".\", \"1\"],\n",
    "    [\"7\", \".\", \".\", \".\", \"2\", \".\", \".\", \".\", \"6\"],\n",
    "    [\".\", \"6\", \".\", \".\", \".\", \".\", \"2\", \"8\", \".\"],\n",
    "    [\".\", \".\", \".\", \"4\", \"1\", \"9\", \".\", \".\", \"5\"],\n",
    "    [\".\", \".\", \".\", \".\", \"8\", \".\", \".\", \"7\", \"9\"],\n",
    "]"
   ]
  }
 ],
 "metadata": {
  "kernelspec": {
   "display_name": "LYH-ML",
   "language": "python",
   "name": "ml"
  },
  "language_info": {
   "codemirror_mode": {
    "name": "ipython",
    "version": 3
   },
   "file_extension": ".py",
   "mimetype": "text/x-python",
   "name": "python",
   "nbconvert_exporter": "python",
   "pygments_lexer": "ipython3",
   "version": "3.8.15"
  }
 },
 "nbformat": 4,
 "nbformat_minor": 5
}
