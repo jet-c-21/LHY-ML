{
 "cells": [
  {
   "cell_type": "code",
   "execution_count": 1,
   "id": "c73cf4a5-f58c-4b75-918a-c6378cdafd74",
   "metadata": {},
   "outputs": [],
   "source": [
    "import sympy as sp"
   ]
  },
  {
   "cell_type": "code",
   "execution_count": 2,
   "id": "bfc48abd-a427-4f81-a832-ee057ac13472",
   "metadata": {},
   "outputs": [],
   "source": [
    "x = sp.Symbol('x')"
   ]
  },
  {
   "cell_type": "code",
   "execution_count": 3,
   "id": "70ad7160-a744-4b76-a5be-f675ca71e343",
   "metadata": {},
   "outputs": [],
   "source": [
    "expr = sp.sqrt(x**2 + 0.5)"
   ]
  },
  {
   "cell_type": "code",
   "execution_count": 4,
   "id": "cc8f0de0-f4b4-483c-8824-7ec6ed38a5d2",
   "metadata": {},
   "outputs": [
    {
     "data": {
      "text/latex": [
       "$\\displaystyle \\sqrt{x^{2} + 0.5}$"
      ],
      "text/plain": [
       "sqrt(x**2 + 0.5)"
      ]
     },
     "execution_count": 4,
     "metadata": {},
     "output_type": "execute_result"
    }
   ],
   "source": [
    "expr"
   ]
  },
  {
   "cell_type": "code",
   "execution_count": 5,
   "id": "c6b8dd1e-cd14-4964-b511-33634a6c6df6",
   "metadata": {},
   "outputs": [
    {
     "data": {
      "text/latex": [
       "$\\displaystyle \\frac{x}{\\sqrt{x^{2} + 0.5}}$"
      ],
      "text/plain": [
       "x/sqrt(x**2 + 0.5)"
      ]
     },
     "execution_count": 5,
     "metadata": {},
     "output_type": "execute_result"
    }
   ],
   "source": [
    "expr.diff(x)"
   ]
  },
  {
   "cell_type": "code",
   "execution_count": null,
   "id": "1e615765-de26-4cdf-9275-9076c536ec2b",
   "metadata": {},
   "outputs": [],
   "source": []
  }
 ],
 "metadata": {
  "kernelspec": {
   "display_name": "Math",
   "language": "python",
   "name": "math"
  },
  "language_info": {
   "codemirror_mode": {
    "name": "ipython",
    "version": 3
   },
   "file_extension": ".py",
   "mimetype": "text/x-python",
   "name": "python",
   "nbconvert_exporter": "python",
   "pygments_lexer": "ipython3",
   "version": "3.8.15"
  }
 },
 "nbformat": 4,
 "nbformat_minor": 5
}
