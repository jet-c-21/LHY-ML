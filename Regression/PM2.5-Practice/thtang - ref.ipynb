{
 "cells": [
  {
   "cell_type": "code",
   "execution_count": 1,
   "id": "9c1218a5-6e95-472a-9211-a8c50b34bf88",
   "metadata": {},
   "outputs": [],
   "source": [
    "import numpy as np\n",
    "import pandas as pd"
   ]
  },
  {
   "cell_type": "code",
   "execution_count": 2,
   "id": "be38ea51-266e-4ad6-9470-49f49e4f2f51",
   "metadata": {},
   "outputs": [],
   "source": [
    "train = pd.read_csv(\"data/train.csv\")\n",
    "test = pd.read_csv('data/test.csv', header=None)"
   ]
  },
  {
   "cell_type": "markdown",
   "id": "100f5194-9939-4717-b11d-8c9858a857ca",
   "metadata": {},
   "source": [
    "# Filter Out Month 7, 8"
   ]
  },
  {
   "cell_type": "code",
   "execution_count": 3,
   "id": "2053f42c-04f3-432e-848e-896912190667",
   "metadata": {},
   "outputs": [],
   "source": [
    "mask = []\n",
    "for i in range (4320):\n",
    "    fil_bool = train['日期'][i][6]!= '7' and train['日期'][i][6]!= '8'\n",
    "    mask.append(fil_bool)\n",
    "\n",
    "train_filt78 = train.loc[mask,:]"
   ]
  },
  {
   "cell_type": "code",
   "execution_count": 4,
   "id": "5fd0a5cf-7a26-4c9c-98c9-84a8b9e1de55",
   "metadata": {},
   "outputs": [],
   "source": [
    "variables = list(train[\"測項\"][:18])"
   ]
  },
  {
   "cell_type": "code",
   "execution_count": 5,
   "id": "00134ae8-e44f-4910-a02a-0f01d9eddc3c",
   "metadata": {},
   "outputs": [],
   "source": [
    "# create period-shift feature\n",
    "def create_period(data, seq_len):\n",
    "    sequence_length = seq_len\n",
    "    result = []\n",
    "    for index in range(len(data) - sequence_length):\n",
    "        result.append(data[index: index + sequence_length])\n",
    "    return result"
   ]
  },
  {
   "cell_type": "markdown",
   "id": "4a6df8e5-69ce-4a80-bddb-ed63e9727bdc",
   "metadata": {},
   "source": [
    "# create feature_set"
   ]
  },
  {
   "cell_type": "code",
   "execution_count": 6,
   "id": "9e024f80-d7fc-4b98-a79a-28560af9d233",
   "metadata": {},
   "outputs": [
    {
     "name": "stdout",
     "output_type": "stream",
     "text": [
      "AMB_TEMP\n",
      "CH4\n",
      "CO\n",
      "NMHC\n",
      "NO\n",
      "NO2\n",
      "NOx\n",
      "O3\n",
      "PM10\n",
      "PM2.5\n",
      "RAINFALL\n",
      "RH\n",
      "SO2\n",
      "THC\n",
      "WD_HR\n",
      "WIND_DIREC\n",
      "WIND_SPEED\n",
      "WS_HR\n",
      "feature_set shape = (4710, 162)\n"
     ]
    }
   ],
   "source": [
    "feature_set = []\n",
    "\n",
    "for var in variables:\n",
    "    var_list = []\n",
    "    print(var)\n",
    "    for index, row in train_filt78.iterrows():\n",
    "        if row[\"測項\"]==var:\n",
    "            var_list += list(row[3:])\n",
    "            \n",
    "    if var == \"PM2.5\":\n",
    "        new_PM = []\n",
    "        for index, pm in enumerate(np.array(var_list,dtype=float)):\n",
    "            if pm < 0:\n",
    "                new_PM.append(new_PM[index-1])\n",
    "            else:\n",
    "                new_PM.append(pm)\n",
    "        var_ts = np.array(new_PM).reshape((10,480))\n",
    "    elif var==\"RAINFALL\" :\n",
    "        var_list = np.array(var_list)\n",
    "        var_list[var_list==\"NR\"]=0\n",
    "        var_ts = np.array(var_list,dtype=float)\n",
    "        var_ts = var_ts.reshape((10,480)) # 12個月篩掉 7 8 月後，尚餘10個月\n",
    "    else:\n",
    "        var_ts = np.array(var_list,dtype=float)\n",
    "        var_ts = var_ts.reshape((10,480))\n",
    "\n",
    "    F = []\n",
    "    for i in range(var_ts.shape[0]):\n",
    "        F += create_period(var_ts[i],9) # 取前 n 小時的特徵\n",
    "        \n",
    "    feature_set.append(F)\n",
    "\n",
    "feature_set = np.array(feature_set)\n",
    "feature_set = np.concatenate((feature_set), axis=1) ###### 產生feature set\n",
    "print(f\"feature_set shape = {feature_set.shape}\")"
   ]
  },
  {
   "cell_type": "markdown",
   "id": "82f0f9ac-de92-4fc4-8637-7775ebe5d8be",
   "metadata": {},
   "source": [
    "# extract groundtruth"
   ]
  },
  {
   "cell_type": "code",
   "execution_count": 7,
   "id": "c8e44ce9-2006-4a01-b378-1f3b80739a97",
   "metadata": {},
   "outputs": [],
   "source": [
    "var_list = []\n",
    "for index, row in train_filt78.iterrows():\n",
    "        if row[\"測項\"]==\"PM2.5\":\n",
    "            var_list += list(row[3:])\n",
    "new_PM = []\n",
    "for index, pm in enumerate(np.array(var_list,dtype=float)):\n",
    "    if pm < 0:\n",
    "        new_PM.append(new_PM[index-1])\n",
    "    else:\n",
    "        new_PM.append(pm)\n",
    "\n",
    "var_ts = np.array(new_PM).reshape((10,480))\n",
    "\n",
    "ground_truth = var_ts[:,9:]\n",
    "ground_truth = ground_truth.flatten() "
   ]
  },
  {
   "cell_type": "markdown",
   "id": "b562d0de-7be5-47ae-aaa2-d5ea1a9530b3",
   "metadata": {},
   "source": [
    "# squre pm2.5"
   ]
  },
  {
   "cell_type": "code",
   "execution_count": 8,
   "id": "0fd9720d-fffd-446f-a7c5-bc59e4aedcba",
   "metadata": {},
   "outputs": [
    {
     "name": "stdout",
     "output_type": "stream",
     "text": [
      "feature_set shape = (4710, 171)\n"
     ]
    }
   ],
   "source": [
    "PM_sq = feature_set[:, 81:90] ** 2\n",
    "feature_set = np.concatenate((feature_set, PM_sq), axis=1)\n",
    "print(f\"feature_set shape = {feature_set.shape}\")"
   ]
  },
  {
   "cell_type": "code",
   "execution_count": 9,
   "id": "23ad8cc4-b315-4e46-be07-8bbd12490cfb",
   "metadata": {},
   "outputs": [],
   "source": [
    "class LinearRegressionGD_ADA(object):\n",
    "\n",
    "    def __init__(self, eta=1, n_iter=2000, random_state=1,shuffle = True, alpha = 0):\n",
    "        self.eta = eta\n",
    "        self.n_iter = n_iter\n",
    "        self.random_state = random_state\n",
    "        self.shuffle = shuffle\n",
    "        self.alpha = alpha\n",
    "\n",
    "    def fit(self, X, y):\n",
    "        print(X.shape)\n",
    "        rgen = np.random.RandomState(self.random_state)\n",
    "        self.w_ = rgen.normal(loc=0.0, scale=0.01, size=1 + X.shape[1])\n",
    "        self.cost_ = []\n",
    "        lr_b = 0\n",
    "        lr_w = np.zeros(X.shape[1])\n",
    "        for i in range(self.n_iter):\n",
    "            \n",
    "            b_grad = 0.0\n",
    "            w_grad = np.zeros(X.shape[1])\n",
    "            \n",
    "            if self.shuffle:\n",
    "                X, y = self._shuffle(X,y)\n",
    "                \n",
    "            for xi, target in zip(X,y): # iterate on single sample\n",
    "                cost = []               # record cost for each sample\n",
    "                output = self.net_input(xi)\n",
    "                error =(target - output)\n",
    "                \n",
    "                w_grad = w_grad - 2*xi.dot(error)\n",
    "                b_grad = b_grad - 2*error\n",
    "#                 self.w_[1:] += 2* self.eta * xi.dot(error)\n",
    "#                 self.w_[0] += 2*self.eta * error\n",
    "\n",
    "            lr_b = lr_b + b_grad**2\n",
    "            lr_w = lr_w + w_grad**2\n",
    "        \n",
    "            self.w_[1:] = self.w_[1:] - self.eta/np.sqrt(lr_w) * w_grad + self.alpha * self.w_[1:]\n",
    "            self.w_[0] = self.w_[0] - self.eta/np.sqrt(lr_b) * b_grad\n",
    "        \n",
    "            # calculate RMSE for an epoch\n",
    "            errors = (sum((y - (self.net_input(X)))**2)/len(y))**0.5  \n",
    "            self.cost_.append(errors)\n",
    "        return self\n",
    "\n",
    "    def net_input(self, X):\n",
    "        return np.dot(X, self.w_[1:]) + self.w_[0]\n",
    "\n",
    "    def predict(self, X):\n",
    "        return self.net_input(X)\n",
    "    \n",
    "    def _shuffle(self,X,y):\n",
    "        r = np.random.permutation(len(y))\n",
    "        return X[r],y[r]"
   ]
  },
  {
   "cell_type": "markdown",
   "id": "f429fa7b-b9bf-468d-a001-e79b1414e770",
   "metadata": {},
   "source": [
    "# Normalize Feature"
   ]
  },
  {
   "cell_type": "code",
   "execution_count": 10,
   "id": "1484ba98-d7ce-4ae1-a623-78acf802e1df",
   "metadata": {},
   "outputs": [],
   "source": [
    "feature_df = pd.DataFrame(feature_set)"
   ]
  },
  {
   "cell_type": "code",
   "execution_count": 11,
   "id": "a55d9f1b-72d6-40d0-b5b5-29171ac4e5fa",
   "metadata": {},
   "outputs": [],
   "source": [
    "normalized_feature = np.array((feature_df-feature_df.mean())/feature_df.std())"
   ]
  },
  {
   "cell_type": "markdown",
   "id": "d033e42d-0101-4c24-a1d0-f4ab9088692c",
   "metadata": {},
   "source": [
    "# build feature index"
   ]
  },
  {
   "cell_type": "code",
   "execution_count": 12,
   "id": "c58b4c25-6b70-4577-8df2-ef1931b4589b",
   "metadata": {},
   "outputs": [],
   "source": [
    "def build_feature_index(feature_order, period):\n",
    "    index = []\n",
    "    for i in feature_order:\n",
    "        index += list(range(i*period, (i+1)*period))\n",
    "    return index\n",
    "\n",
    "feature_index = build_feature_index([7,9,12,18],9) # get feature O3 PM2.5 SO2 and PM2.5^2 with 9 period"
   ]
  },
  {
   "cell_type": "markdown",
   "id": "2e2debcc-07c5-44ee-8ace-979d027e0fd6",
   "metadata": {},
   "source": [
    "# function for cross validation"
   ]
  },
  {
   "cell_type": "code",
   "execution_count": 13,
   "id": "d941452a-a187-41f8-84a9-dd775251861b",
   "metadata": {},
   "outputs": [],
   "source": [
    "def cross_validation(model_in, X, y, feature_index=feature_index, \n",
    "                     times=5, proportion=0.5, feature_select = True):\n",
    "    loss=[]\n",
    "    for _ in range(times):\n",
    "        model=model_in\n",
    "        \n",
    "        msk = np.random.rand(len(y)) < proportion\n",
    "\n",
    "        train_X = X[msk]\n",
    "        train_y = y[msk]\n",
    "\n",
    "        test_X = X[~msk]\n",
    "        test_y = y[~msk]\n",
    "\n",
    "        if feature_select :\n",
    "            train_X = train_X[:,feature_index]\n",
    "            test_X = test_X[:,feature_index]\n",
    "\n",
    "        model.fit(train_X,train_y)\n",
    "        valid_loss = (((model.predict(test_X)-test_y)**2).sum() / len(test_y))**0.5\n",
    "        loss.append(valid_loss)\n",
    "        \n",
    "    return (sum(loss)/times, np.std(loss), loss)"
   ]
  },
  {
   "cell_type": "markdown",
   "id": "4523b467-2044-4e4c-aa6e-f850bb81dc57",
   "metadata": {},
   "source": [
    "# Fit Model"
   ]
  },
  {
   "cell_type": "code",
   "execution_count": 14,
   "id": "fffb9b46-9973-4095-9412-5d26881d84c3",
   "metadata": {},
   "outputs": [
    {
     "name": "stdout",
     "output_type": "stream",
     "text": [
      "Fitting model....\n",
      "(2408, 36)\n",
      "LR_ada_shf validation Loss:  (5.457931305173524, 0.0, [5.457931305173524])\n"
     ]
    }
   ],
   "source": [
    "lr_ada_shf = LinearRegressionGD_ADA(eta=1.25*1, n_iter = 1000, shuffle = True)\n",
    "\n",
    "print(\"Fitting model....\")\n",
    "cross_loss = cross_validation(lr_ada_shf, normalized_feature, ground_truth, times = 1)\n",
    "print(\"LR_ada_shf validation Loss: \",cross_loss)"
   ]
  },
  {
   "cell_type": "markdown",
   "id": "26a729b4-a8fb-4980-9411-25ff4fcc85fa",
   "metadata": {},
   "source": [
    "# create testing feature"
   ]
  },
  {
   "cell_type": "code",
   "execution_count": 15,
   "id": "a7e007d4-0b33-4b12-8d35-5c23074f658f",
   "metadata": {},
   "outputs": [],
   "source": [
    "test_set = []\n",
    "s_arr = np.array(range(0,len(test),18))\n",
    "e_arr = s_arr+18\n",
    "for start, end in zip(s_arr, e_arr):\n",
    "    a = np.array(test.iloc[start:end,2:]).flatten()\n",
    "    a[a==\"NR\"] = 0\n",
    "    a[a==\"-1\"] = 4\n",
    "    a = np.array(a,dtype=float)\n",
    "    test_set.append(a)\n",
    "test_set = np.array(test_set)"
   ]
  },
  {
   "cell_type": "code",
   "execution_count": 16,
   "id": "707d543b-7f46-4b02-b387-c5e6fd0552b6",
   "metadata": {},
   "outputs": [],
   "source": [
    "# PM2.5 square\n",
    "testPM_sq = test_set[:,81:90]**2\n",
    "test_set = np.concatenate((test_set, testPM_sq), axis=1)\n",
    "test_df = pd.DataFrame(test_set)\n",
    "normalized_test = np.array((test_df-feature_df.mean())/feature_df.std())"
   ]
  },
  {
   "cell_type": "code",
   "execution_count": 17,
   "id": "20898d3d-4be6-4e0e-8cab-ce5f436c090a",
   "metadata": {},
   "outputs": [],
   "source": [
    "test_pred = lr_ada_shf.predict(normalized_test[:,feature_index])\n",
    "submit_df = pd.DataFrame({\"id\":[\"id_\"+str(i) for i in range(240)],\"value\":test_pred})"
   ]
  },
  {
   "cell_type": "code",
   "execution_count": 18,
   "id": "83073acd-8d2f-4f48-b761-a990f4f424e5",
   "metadata": {},
   "outputs": [
    {
     "name": "stdout",
     "output_type": "stream",
     "text": [
      "save csv\n"
     ]
    }
   ],
   "source": [
    "print(\"save csv\")\n",
    "submit_df.to_csv('thtang_pred.csv',index=False)"
   ]
  },
  {
   "cell_type": "code",
   "execution_count": 21,
   "id": "c2de691a-da20-4724-9a21-71f76d82676f",
   "metadata": {},
   "outputs": [],
   "source": [
    "from sklearn.metrics import mean_squared_error"
   ]
  },
  {
   "cell_type": "code",
   "execution_count": 22,
   "id": "bfee761b-d6b0-4477-9f07-f06c7c51c403",
   "metadata": {},
   "outputs": [],
   "source": [
    "close_form_pred = np.load('close_form_pred.npy')"
   ]
  },
  {
   "cell_type": "code",
   "execution_count": 23,
   "id": "5c124b1e-d5d6-45c9-bf5b-7b37e3a608af",
   "metadata": {},
   "outputs": [
    {
     "data": {
      "text/plain": [
       "11.287682289166161"
      ]
     },
     "execution_count": 23,
     "metadata": {},
     "output_type": "execute_result"
    }
   ],
   "source": [
    "mean_squared_error(close_form_pred, test_pred)"
   ]
  },
  {
   "cell_type": "code",
   "execution_count": null,
   "id": "58056f68-72d2-48b7-b476-20969a079de0",
   "metadata": {},
   "outputs": [],
   "source": []
  }
 ],
 "metadata": {
  "kernelspec": {
   "display_name": "LYH-ML",
   "language": "python",
   "name": "ml"
  },
  "language_info": {
   "codemirror_mode": {
    "name": "ipython",
    "version": 3
   },
   "file_extension": ".py",
   "mimetype": "text/x-python",
   "name": "python",
   "nbconvert_exporter": "python",
   "pygments_lexer": "ipython3",
   "version": "3.8.15"
  }
 },
 "nbformat": 4,
 "nbformat_minor": 5
}
