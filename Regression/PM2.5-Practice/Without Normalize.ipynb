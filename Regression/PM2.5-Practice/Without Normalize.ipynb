{
 "cells": [
  {
   "cell_type": "code",
   "execution_count": 1,
   "id": "fa857022-7e60-42bf-887d-ab7574045637",
   "metadata": {},
   "outputs": [],
   "source": [
    "import os\n",
    "\n",
    "import numpy as np\n",
    "import pandas as pd\n",
    "from tqdm import tqdm\n",
    "\n",
    "from linear_regression import get_z_score_norm, LinearRegression, k_fold_cross_validation, get_lr_grid, z_score_norm\n",
    "from sklearn.model_selection import train_test_split\n",
    "from sklearn.metrics import mean_squared_error\n",
    "import matplotlib.pyplot as plt"
   ]
  },
  {
   "cell_type": "code",
   "execution_count": 2,
   "id": "38248b8f-efc0-4480-a630-b0c1055d816a",
   "metadata": {},
   "outputs": [
    {
     "name": "stderr",
     "output_type": "stream",
     "text": [
      "/tmp/ipykernel_120080/2962311119.py:20: FutureWarning: In a future version of pandas, a length 1 tuple will be returned when iterating over a groupby with a grouper equal to a list of length 1. Don't supply a list with a single grouper to avoid this warning.\n",
      "  for date, group in date_gb:\n"
     ]
    },
    {
     "data": {
      "text/plain": [
       "((5652, 18, 9), (5652,))"
      ]
     },
     "execution_count": 2,
     "metadata": {},
     "output_type": "execute_result"
    }
   ],
   "source": [
    "train_csv_path = 'data/train.csv'\n",
    "test_csv_path = 'data/test.csv'\n",
    "\n",
    "train_df = pd.read_csv(train_csv_path)\n",
    "test_df = pd.read_csv(test_csv_path, header=None)\n",
    "\n",
    "train_df = train_df.rename(columns={\"日期\": \"date\", \"測站\": \"station\", \"測項\": \"obs_item\"})\n",
    "\n",
    "val_cols = train_df.columns[3:]\n",
    "train_df[val_cols] = train_df[val_cols].apply(pd.to_numeric, errors=\"coerce\")\n",
    "train_df\n",
    "\n",
    "train_df.iloc[train_df[train_df[\"obs_item\"] == \"RAINFALL\"].index] = train_df[train_df[\"obs_item\"] == \"RAINFALL\"].fillna(0)\n",
    "\n",
    "train_data = train_df.iloc[:, 3:]\n",
    "\n",
    "date_gb = train_df.groupby([\"date\"])\n",
    "\n",
    "check_obs_item = []\n",
    "for date, group in date_gb:\n",
    "    check_obs_item.append(group[\"obs_item\"].values)\n",
    "np.unique(check_obs_item)\n",
    "\n",
    "fc = 18  # feature count\n",
    "\n",
    "year_data = list()\n",
    "for month in range(12):  # 0 - 11\n",
    "    total_hr = 24 * 20\n",
    "    temp = np.zeros((fc, total_hr))\n",
    "\n",
    "    day_per_month = 20\n",
    "    for day in range(day_per_month):\n",
    "        hr_idx = 24 * day\n",
    "        row_idx = 18 * 20 * month + 18 * day\n",
    "        temp[:, hr_idx : hr_idx + 24] = train_data.iloc[row_idx : row_idx + 18]\n",
    "\n",
    "    year_data.append(temp)\n",
    "\n",
    "year_data = np.array(year_data)\n",
    "year_data.shape\n",
    "\n",
    "x_all, y_all = list(), list()\n",
    "\n",
    "for month in range(12):\n",
    "    month_data = year_data[month]\n",
    "    for hr_itv_idx in range(24 * 20 - 9):\n",
    "        x = month_data[:, hr_itv_idx : hr_itv_idx + 9]\n",
    "        y = month_data[9, hr_itv_idx + 9]  # pm2.5 is at row-9\n",
    "\n",
    "        x_all.append(x)\n",
    "        y_all.append(y)\n",
    "\n",
    "x_all = np.array(x_all)\n",
    "y_all = np.array(y_all)\n",
    "\n",
    "x_all.shape, y_all.shape"
   ]
  },
  {
   "cell_type": "code",
   "execution_count": 3,
   "id": "25fbbd08-95e5-49bc-92cd-5952dc9c50ce",
   "metadata": {},
   "outputs": [],
   "source": [
    "val_cols = test_df.columns[2:]\n",
    "test_df[val_cols] = test_df[val_cols].apply(pd.to_numeric, errors='coerce')\n",
    "test_df.iloc[test_df[test_df[1] == 'RAINFALL'].index] = test_df[test_df[1] == 'RAINFALL'].fillna(0)\n",
    "\n",
    "temp = []\n",
    "for g_name, g_df in test_df.groupby(0):\n",
    "    x = g_df.iloc[:, 2:].values\n",
    "    temp.append(x)\n",
    "X_test = np.array(temp)\n",
    "\n",
    "m, _, _, = X_test.shape\n",
    "X_test = X_test.reshape((m, -1))"
   ]
  },
  {
   "cell_type": "code",
   "execution_count": 4,
   "id": "86899be3-b9c9-4f57-b974-80537ee7406d",
   "metadata": {},
   "outputs": [],
   "source": [
    "m, feat_n, hr_n, = x_all.shape\n",
    "x_all = x_all.reshape((m, -1))"
   ]
  },
  {
   "cell_type": "code",
   "execution_count": 5,
   "id": "7aaf17b0-3a27-4e69-bcf3-932b35c40311",
   "metadata": {},
   "outputs": [],
   "source": [
    "seed = 369\n",
    "X_train, X_valid, y_train, y_valid = train_test_split(x_all, y_all, test_size=0.2, random_state=seed)"
   ]
  },
  {
   "cell_type": "code",
   "execution_count": 12,
   "id": "c335c291-a311-413c-8448-dc149da93c5b",
   "metadata": {},
   "outputs": [
    {
     "name": "stdout",
     "output_type": "stream",
     "text": [
      "Iteration    0: Cost  165.859   \n",
      "Iteration 2000: Cost   36.499   \n",
      "Iteration 4000: Cost   30.619   \n",
      "Iteration 6000: Cost   27.623   \n",
      "Iteration 8000: Cost   25.700   \n",
      "Iteration 10000: Cost   24.334   \n",
      "Iteration 12000: Cost   23.307   \n",
      "Iteration 14000: Cost   22.504   \n",
      "Iteration 16000: Cost   21.859   \n",
      "Iteration 18000: Cost   21.328   \n"
     ]
    }
   ],
   "source": [
    "iteration = 20000\n",
    "lr = 1e-6\n",
    "\n",
    "model = LinearRegression(X_train, y_train, iteration, lr, validation=(X_valid, y_valid))\n",
    "final_w, final_b, history = model.gradient_descent()\n",
    "# final_w, final_b, history = model.ada_grad()"
   ]
  },
  {
   "cell_type": "code",
   "execution_count": 13,
   "id": "352a977d-bb0b-4bbb-8480-61ebe33d1509",
   "metadata": {},
   "outputs": [],
   "source": [
    "pred = model.predict(X_test)"
   ]
  },
  {
   "cell_type": "code",
   "execution_count": 14,
   "id": "8392e8fd-d9f6-48ca-9f37-7429c1d73587",
   "metadata": {},
   "outputs": [],
   "source": [
    "close_form_pred = np.load('close_form_pred.npy')"
   ]
  },
  {
   "cell_type": "code",
   "execution_count": 15,
   "id": "cbb746b5-39a7-4d68-a2ea-e0a921deffa4",
   "metadata": {},
   "outputs": [
    {
     "data": {
      "text/plain": [
       "745.1762363648523"
      ]
     },
     "execution_count": 15,
     "metadata": {},
     "output_type": "execute_result"
    }
   ],
   "source": [
    "mean_squared_error(close_form_pred, pred)"
   ]
  },
  {
   "cell_type": "code",
   "execution_count": null,
   "id": "4b3a4979-2004-4093-aaab-68b56eacdf33",
   "metadata": {},
   "outputs": [],
   "source": []
  }
 ],
 "metadata": {
  "kernelspec": {
   "display_name": "LYH-ML",
   "language": "python",
   "name": "ml"
  },
  "language_info": {
   "codemirror_mode": {
    "name": "ipython",
    "version": 3
   },
   "file_extension": ".py",
   "mimetype": "text/x-python",
   "name": "python",
   "nbconvert_exporter": "python",
   "pygments_lexer": "ipython3",
   "version": "3.8.15"
  }
 },
 "nbformat": 4,
 "nbformat_minor": 5
}
