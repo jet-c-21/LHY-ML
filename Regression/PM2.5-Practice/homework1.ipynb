{
 "cells": [
  {
   "cell_type": "code",
   "execution_count": 2,
   "id": "injured-poison",
   "metadata": {
    "_cell_guid": "b1076dfc-b9ad-4769-8c92-a6c4dae69d19",
    "_uuid": "8f2839f25d086af736a60e9eeb907d3b93b6e0e5",
    "papermill": {
     "duration": 0.043947,
     "end_time": "2021-04-16T16:01:20.154404",
     "exception": false,
     "start_time": "2021-04-16T16:01:20.110457",
     "status": "completed"
    },
    "tags": []
   },
   "outputs": [],
   "source": [
    "# This Python 3 environment comes with many helpful analytics libraries installed\n",
    "# It is defined by the kaggle/python Docker image: https://github.com/kaggle/docker-python\n",
    "# For example, here's several helpful packages to load\n",
    "\n",
    "import numpy as np # linear algebra\n",
    "import pandas as pd # data processing, CSV file I/O (e.g. pd.read_csv)\n",
    "\n",
    "# Input data files are available in the read-only \"../input/\" directory\n",
    "# For example, running this (by clicking run or pressing Shift+Enter) will list all files under the input directory\n",
    "\n",
    "# import os\n",
    "# for dirname, _, filenames in os.walk('/kaggle/input'):\n",
    "#     for filename in filenames:\n",
    "#         print(os.path.join(dirname, filename))\n",
    "\n",
    "# You can write up to 20GB to the current directory (/kaggle/working/) that gets preserved as output when you create a version using \"Save & Run All\" \n",
    "# You can also write temporary files to /kaggle/temp/, but they won't be saved outside of the current session"
   ]
  },
  {
   "cell_type": "markdown",
   "id": "behavioral-labor",
   "metadata": {
    "papermill": {
     "duration": 0.02791,
     "end_time": "2021-04-16T16:01:20.211039",
     "exception": false,
     "start_time": "2021-04-16T16:01:20.183129",
     "status": "completed"
    },
    "tags": []
   },
   "source": [
    "# **Load 'train.csv'**\n",
    "train.csv 的資料為 12 個月中，每個月取 20 天，每天 24 小時的資料(每小時資料有 18 個 features)。"
   ]
  },
  {
   "cell_type": "code",
   "execution_count": 3,
   "id": "heavy-western",
   "metadata": {
    "papermill": {
     "duration": 0.098578,
     "end_time": "2021-04-16T16:01:20.337779",
     "exception": false,
     "start_time": "2021-04-16T16:01:20.239201",
     "status": "completed"
    },
    "tags": []
   },
   "outputs": [],
   "source": [
    "# data = pd.read_csv('gdrive/My Drive/hw1-regression/train.csv', header = None, encoding = 'big5')\n",
    "# data = pd.read_csv('/kaggle/input/ml2020spring-hw1/train.csv', encoding = 'big5')\n",
    "data_path = 'data/train.csv'\n",
    "data = pd.read_csv(data_path)"
   ]
  },
  {
   "cell_type": "code",
   "execution_count": 4,
   "id": "impossible-caution",
   "metadata": {
    "papermill": {
     "duration": 0.036065,
     "end_time": "2021-04-16T16:01:20.402264",
     "exception": false,
     "start_time": "2021-04-16T16:01:20.366199",
     "status": "completed"
    },
    "tags": []
   },
   "outputs": [],
   "source": [
    "# data.iloc[9]\n",
    "# data.iloc[:17]"
   ]
  },
  {
   "cell_type": "markdown",
   "id": "automotive-tissue",
   "metadata": {
    "papermill": {
     "duration": 0.028236,
     "end_time": "2021-04-16T16:01:20.459143",
     "exception": false,
     "start_time": "2021-04-16T16:01:20.430907",
     "status": "completed"
    },
    "tags": []
   },
   "source": [
    "# **Preprocessing** \n",
    "取需要的數值部分，將 'RAINFALL' 欄位全部補 0。Rainfall属性的无降雨值为NR，降雨值为1. 将NR替换为数值0\n",
    "另外，如果要在 colab 重覆這段程式碼的執行，請從頭開始執行(把上面的都重新跑一次)，以避免跑出不是自己要的結果（若自己寫程式不會遇到，但 colab 重複跑這段會一直往下取資料。意即第一次取原本資料的第三欄之後的資料，第二次取第一次取的資料掉三欄之後的資料，...）。"
   ]
  },
  {
   "cell_type": "code",
   "execution_count": 5,
   "id": "educational-palestine",
   "metadata": {
    "papermill": {
     "duration": 0.064853,
     "end_time": "2021-04-16T16:01:20.552345",
     "exception": false,
     "start_time": "2021-04-16T16:01:20.487492",
     "status": "completed"
    },
    "tags": []
   },
   "outputs": [],
   "source": [
    "# 去除前三列(日期/测站/测项)\n",
    "data = data.iloc[:, 3:]\n",
    "data[data == 'NR'] = 0\n",
    "raw_data = data.to_numpy()\n",
    "#pandas to_numpy（）产生一个列表数组"
   ]
  },
  {
   "cell_type": "code",
   "execution_count": 6,
   "id": "liberal-retirement",
   "metadata": {
    "papermill": {
     "duration": 0.036858,
     "end_time": "2021-04-16T16:01:20.617350",
     "exception": false,
     "start_time": "2021-04-16T16:01:20.580492",
     "status": "completed"
    },
    "tags": []
   },
   "outputs": [],
   "source": [
    "# print(raw_data)"
   ]
  },
  {
   "cell_type": "markdown",
   "id": "innocent-brother",
   "metadata": {
    "papermill": {
     "duration": 0.028071,
     "end_time": "2021-04-16T16:01:20.674625",
     "exception": false,
     "start_time": "2021-04-16T16:01:20.646554",
     "status": "completed"
    },
    "tags": []
   },
   "source": [
    "# **Extract Features (1)**\n",
    "属性组成18维向量\n",
    "將原始 4320 * 18 的資料依照每個月分重組成 12 個月( 每个月20day*24h=480h横向小时 ), 18 (features) * 480 (hours) 的資料。\n",
    "这样,每个月的资料在横向上是连续的时间"
   ]
  },
  {
   "cell_type": "code",
   "execution_count": 7,
   "id": "ambient-universe",
   "metadata": {
    "papermill": {
     "duration": 0.060838,
     "end_time": "2021-04-16T16:01:20.763725",
     "exception": false,
     "start_time": "2021-04-16T16:01:20.702887",
     "status": "completed"
    },
    "tags": []
   },
   "outputs": [],
   "source": [
    "month_data = {}\n",
    "for month in range(12):\n",
    "    sample = np.empty([18, 480])\n",
    "    for day in range(20):\n",
    "        sample[:, day * 24 : (day + 1) * 24] = raw_data[18 * (20 * month + day) : 18 * (20 * month + day + 1), :]\n",
    "        #取raw_data的行,对sample的列进行拼接\n",
    "    month_data[month] = sample"
   ]
  },
  {
   "cell_type": "code",
   "execution_count": 8,
   "id": "increased-compiler",
   "metadata": {
    "papermill": {
     "duration": 0.035623,
     "end_time": "2021-04-16T16:01:20.827767",
     "exception": false,
     "start_time": "2021-04-16T16:01:20.792144",
     "status": "completed"
    },
    "tags": []
   },
   "outputs": [],
   "source": [
    "# print(month_data[0][0])"
   ]
  },
  {
   "cell_type": "markdown",
   "id": "fiscal-signature",
   "metadata": {
    "papermill": {
     "duration": 0.028041,
     "end_time": "2021-04-16T16:01:20.884712",
     "exception": false,
     "start_time": "2021-04-16T16:01:20.856671",
     "status": "completed"
    },
    "tags": []
   },
   "source": [
    "# **Extract Features (2)**\n",
    "每个array是一个月, print(month_data[0][0])可查看第一个月第一天\n",
    "每個月會有 480hrs，每 9 小時形成一個 data，每個月會有 471 個 data，故總資料數為 471 * 12 筆，而每筆 data 有 9 * 18 的 features (一小時 18 個 features * 9 小時)。\n",
    "\n",
    "對應的 target 則有 471 * 12 個(第 10 個小時的 PM2.5)\n",
    "\n",
    "前9h数据作为train_x, 第10h的pm2.5作为train_y, 制作xy样本"
   ]
  },
  {
   "cell_type": "code",
   "execution_count": 9,
   "id": "popular-maintenance",
   "metadata": {
    "papermill": {
     "duration": 0.076444,
     "end_time": "2021-04-16T16:01:20.990697",
     "exception": false,
     "start_time": "2021-04-16T16:01:20.914253",
     "status": "completed"
    },
    "tags": []
   },
   "outputs": [
    {
     "name": "stdout",
     "output_type": "stream",
     "text": [
      "[[14.  14.  14.  ...  2.   2.   0.5]\n",
      " [14.  14.  13.  ...  2.   0.5  0.3]\n",
      " [14.  13.  12.  ...  0.5  0.3  0.8]\n",
      " ...\n",
      " [17.  18.  19.  ...  1.1  1.4  1.3]\n",
      " [18.  19.  18.  ...  1.4  1.3  1.6]\n",
      " [19.  18.  17.  ...  1.3  1.6  1.8]]\n",
      "[[30.]\n",
      " [41.]\n",
      " [44.]\n",
      " ...\n",
      " [17.]\n",
      " [24.]\n",
      " [29.]]\n"
     ]
    }
   ],
   "source": [
    "x = np.empty([12 * 471, 18 * 9], dtype = float)\n",
    "y = np.empty([12 * 471, 1], dtype = float)\n",
    "for month in range(12):\n",
    "    for day in range(20):\n",
    "        for hour in range(24):\n",
    "            if day == 19 and hour > 14:#最后一天的最后10h是最后一组样本了,再往后无法作样本了\n",
    "                continue\n",
    "            #-1在这里应该可以理解为一个正整数通配符，它代替任何整数. reshape(1, -1)化为一行\n",
    "            # print(month_data[month][:,day * 24 + hour : day * 24 + hour + 9].reshape(1, -1))\n",
    "            #x分片时是所有行(属性), 如果不进行reshape, 则每个属性的9小时单独成1行\n",
    "            x[month * 471 + day * 24 + hour, :] = month_data[month][:,day * 24 + hour : day * 24 + hour + 9].reshape(1, -1) #vector dim:18*9 (9 9 9 9 9 9 9 9 9 9 9 9 9 9 9 9 9 9)\n",
    "            y[month * 471 + day * 24 + hour, 0] = month_data[month][9, day * 24 + hour + 9] #value第10个属性是PM2.5\n",
    "print(x)\n",
    "print(y)"
   ]
  },
  {
   "cell_type": "code",
   "execution_count": 10,
   "id": "69057d08-339b-4239-a279-81e5279511cb",
   "metadata": {},
   "outputs": [
    {
     "name": "stdout",
     "output_type": "stream",
     "text": [
      "x_shape = (5652, 162), y_shape = (5652, 1)\n"
     ]
    }
   ],
   "source": [
    "print(f\"x_shape = {x.shape}, y_shape = {y.shape}\")"
   ]
  },
  {
   "cell_type": "markdown",
   "id": "historic-decision",
   "metadata": {
    "papermill": {
     "duration": 0.028558,
     "end_time": "2021-04-16T16:01:21.048415",
     "exception": false,
     "start_time": "2021-04-16T16:01:21.019857",
     "status": "completed"
    },
    "tags": []
   },
   "source": [
    "# **Normalize (1)**\n",
    "预处理数据有一个很关键的步骤就是数据的标准化\n",
    "许多学习算法中目标函数的基础都是假设所有的特征都是零均值并且具有同一阶数上的方差。如果某个特征的方差比其他特征大几个数量级，那么它就会在学习算法中占据主导位置，导致学习器并不能像我们说期望的那样，从其他特征中学习。\n",
    "## 1 StandardScaler\n",
    "标准化数据通过减去均值然后除以方差（或标准差），这种数据标准化方法经过处理后数据符合标准正态分布，即均值为0，标准差为1\n",
    "## 2 MinMaxScaler\n",
    "这种方法是对原始数据的线性变换，将数据归一到[0,1]中间\n",
    "## 3 RobustScaler\n",
    "如果你的数据包含许多异常值，使用均值和方差缩放可能并不是一个很好的选择。\n",
    "This Scaler removes the median（中位数） and scales the data according to the quantile range(四分位距离，也就是说排除了outliers)"
   ]
  },
  {
   "cell_type": "code",
   "execution_count": 11,
   "id": "extreme-senior",
   "metadata": {
    "papermill": {
     "duration": 3.029992,
     "end_time": "2021-04-16T16:01:24.107876",
     "exception": false,
     "start_time": "2021-04-16T16:01:21.077884",
     "status": "completed"
    },
    "tags": []
   },
   "outputs": [],
   "source": [
    "mean_x = np.mean(x, axis = 0) #18 * 9 \n",
    "std_x = np.std(x, axis = 0) #18 * 9 标准差\n",
    "for i in range(len(x)): #12 * 471\n",
    "    for j in range(len(x[0])): #18 * 9 \n",
    "        if std_x[j] != 0:\n",
    "            x[i][j] = (x[i][j] - mean_x[j]) / std_x[j]"
   ]
  },
  {
   "cell_type": "code",
   "execution_count": 12,
   "id": "db0ae4bd-3030-43bf-826c-00096a44da09",
   "metadata": {},
   "outputs": [
    {
     "data": {
      "text/plain": [
       "array([[-1.35825331, -1.35883937, -1.359222  , ...,  0.26650729,\n",
       "         0.2656797 , -1.14082131],\n",
       "       [-1.35825331, -1.35883937, -1.51819928, ...,  0.26650729,\n",
       "        -1.13963133, -1.32832904],\n",
       "       [-1.35825331, -1.51789368, -1.67717656, ..., -1.13923451,\n",
       "        -1.32700613, -0.85955971],\n",
       "       ...,\n",
       "       [-0.88092053, -0.72262212, -0.56433559, ..., -0.57693779,\n",
       "        -0.29644471, -0.39079039],\n",
       "       [-0.7218096 , -0.56356781, -0.72331287, ..., -0.29578943,\n",
       "        -0.39013211, -0.1095288 ],\n",
       "       [-0.56269867, -0.72262212, -0.88229015, ..., -0.38950555,\n",
       "        -0.10906991,  0.07797893]])"
      ]
     },
     "execution_count": 12,
     "metadata": {},
     "output_type": "execute_result"
    }
   ],
   "source": [
    "x"
   ]
  },
  {
   "cell_type": "code",
   "execution_count": 13,
   "id": "5b00f11b-9e31-45dc-b007-e561c7217385",
   "metadata": {},
   "outputs": [
    {
     "data": {
      "text/plain": [
       "(5652, 162)"
      ]
     },
     "execution_count": 13,
     "metadata": {},
     "output_type": "execute_result"
    }
   ],
   "source": [
    "x.shape"
   ]
  },
  {
   "cell_type": "markdown",
   "id": "continuing-lucas",
   "metadata": {
    "papermill": {
     "duration": 0.029988,
     "end_time": "2021-04-16T16:01:24.167928",
     "exception": false,
     "start_time": "2021-04-16T16:01:24.137940",
     "status": "completed"
    },
    "tags": []
   },
   "source": [
    "# **Split Training Data Into \"train_set\" and \"validation_set\"**\n",
    "這部分是針對作業中第二題、第三題，生成比較中用來訓練的 train_set 和不會被放入訓練、只是用來驗證的 validation_set。"
   ]
  },
  {
   "cell_type": "code",
   "execution_count": 10,
   "id": "precious-population",
   "metadata": {
    "execution": {
     "iopub.execute_input": "2021-04-16T16:01:24.238628Z",
     "iopub.status.busy": "2021-04-16T16:01:24.237581Z",
     "iopub.status.idle": "2021-04-16T16:01:24.245445Z",
     "shell.execute_reply": "2021-04-16T16:01:24.244844Z"
    },
    "papermill": {
     "duration": 0.04749,
     "end_time": "2021-04-16T16:01:24.245672",
     "exception": false,
     "start_time": "2021-04-16T16:01:24.198182",
     "status": "completed"
    },
    "tags": []
   },
   "outputs": [
    {
     "name": "stdout",
     "output_type": "stream",
     "text": [
      "[[-1.35825331 -1.35883937 -1.359222   ...  0.26650729  0.2656797\n",
      "  -1.14082131]\n",
      " [-1.35825331 -1.35883937 -1.51819928 ...  0.26650729 -1.13963133\n",
      "  -1.32832904]\n",
      " [-1.35825331 -1.51789368 -1.67717656 ... -1.13923451 -1.32700613\n",
      "  -0.85955971]\n",
      " ...\n",
      " [ 0.86929969  0.70886668  0.38952809 ...  1.39110073  0.2656797\n",
      "  -0.39079039]\n",
      " [ 0.71018876  0.39075806  0.07157353 ...  0.26650729 -0.39013211\n",
      "  -0.39079039]\n",
      " [ 0.3919669   0.07264944  0.07157353 ... -0.38950555 -0.39013211\n",
      "  -0.85955971]]\n",
      "[[30.]\n",
      " [41.]\n",
      " [44.]\n",
      " ...\n",
      " [ 7.]\n",
      " [ 5.]\n",
      " [14.]]\n",
      "[[ 0.07374504  0.07264944  0.07157353 ... -0.38950555 -0.85856912\n",
      "  -0.57829812]\n",
      " [ 0.07374504  0.07264944  0.23055081 ... -0.85808615 -0.57750692\n",
      "   0.54674825]\n",
      " [ 0.07374504  0.23170375  0.23055081 ... -0.57693779  0.54674191\n",
      "  -0.1095288 ]\n",
      " ...\n",
      " [-0.88092053 -0.72262212 -0.56433559 ... -0.57693779 -0.29644471\n",
      "  -0.39079039]\n",
      " [-0.7218096  -0.56356781 -0.72331287 ... -0.29578943 -0.39013211\n",
      "  -0.1095288 ]\n",
      " [-0.56269867 -0.72262212 -0.88229015 ... -0.38950555 -0.10906991\n",
      "   0.07797893]]\n",
      "[[13.]\n",
      " [24.]\n",
      " [22.]\n",
      " ...\n",
      " [17.]\n",
      " [24.]\n",
      " [29.]]\n",
      "4521\n",
      "4521\n",
      "1131\n",
      "1131\n"
     ]
    }
   ],
   "source": [
    "import math\n",
    "x_train_set = x[: math.floor(len(x) * 0.8), :]#取80%的样本, floor向下取整. 0~0.8\n",
    "y_train_set = y[: math.floor(len(y) * 0.8), :]\n",
    "x_validation = x[math.floor(len(x) * 0.8): , :]#0.8~1\n",
    "y_validation = y[math.floor(len(y) * 0.8): , :]\n",
    "print(x_train_set)\n",
    "print(y_train_set)\n",
    "print(x_validation)\n",
    "print(y_validation)\n",
    "print(len(x_train_set))\n",
    "print(len(y_train_set))\n",
    "print(len(x_validation))\n",
    "print(len(y_validation))"
   ]
  },
  {
   "cell_type": "code",
   "execution_count": 11,
   "id": "abandoned-evidence",
   "metadata": {
    "execution": {
     "iopub.execute_input": "2021-04-16T16:01:24.311476Z",
     "iopub.status.busy": "2021-04-16T16:01:24.310335Z",
     "iopub.status.idle": "2021-04-16T16:01:24.314054Z",
     "shell.execute_reply": "2021-04-16T16:01:24.313374Z"
    },
    "papermill": {
     "duration": 0.038153,
     "end_time": "2021-04-16T16:01:24.314199",
     "exception": false,
     "start_time": "2021-04-16T16:01:24.276046",
     "status": "completed"
    },
    "tags": []
   },
   "outputs": [],
   "source": [
    "# # 题目4-数据划分-只取后5h-cell\n",
    "# #只能运行一次\n",
    "# x_5h = x[:, (4*18):]\n",
    "# #test测试集数据预处理\n",
    "# testdata = pd.read_csv('/kaggle/input/ml2020spring-hw1/test.csv', header = None, encoding = 'big5')\n",
    "# test_data = testdata.iloc[:, 2:]#只能运行一次\n",
    "# test_data[test_data == 'NR'] = 0\n",
    "# test_data = test_data.to_numpy()"
   ]
  },
  {
   "cell_type": "code",
   "execution_count": 12,
   "id": "incomplete-force",
   "metadata": {
    "execution": {
     "iopub.execute_input": "2021-04-16T16:01:24.380236Z",
     "iopub.status.busy": "2021-04-16T16:01:24.379572Z",
     "iopub.status.idle": "2021-04-16T16:01:24.383010Z",
     "shell.execute_reply": "2021-04-16T16:01:24.382229Z"
    },
    "papermill": {
     "duration": 0.038219,
     "end_time": "2021-04-16T16:01:24.383160",
     "exception": false,
     "start_time": "2021-04-16T16:01:24.344941",
     "status": "completed"
    },
    "tags": []
   },
   "outputs": [],
   "source": [
    "# # 题目4-测试数据形状改变-只取后5h-cell\n",
    "# test_x = np.empty([240, 18*9], dtype = float)\n",
    "# # test_x_5h = np.empty([240, 18*5], dtype = float)\n",
    "# # 10 小時為一筆，前九小時作x的feature. 一共取出 240 筆不重複的 test data，\n",
    "# for i in range(240):#每一笔分别存, 一笔中有18个feature\n",
    "#     test_x[i, :] = test_data[18 * i: 18* (i + 1), :].reshape(1, -1)#原数据的小时在列中体现, 把所有前9小时都存入了\n",
    "# #     test_x_5h[i, :] = test_data[18 * i: 18* (i + 1), 4:].reshape(1, -1)#只取后5h\n",
    "# test_x_5h = test_x[:, (4*18):]"
   ]
  },
  {
   "cell_type": "code",
   "execution_count": 13,
   "id": "reserved-tobacco",
   "metadata": {
    "execution": {
     "iopub.execute_input": "2021-04-16T16:01:24.449747Z",
     "iopub.status.busy": "2021-04-16T16:01:24.448944Z",
     "iopub.status.idle": "2021-04-16T16:01:24.452102Z",
     "shell.execute_reply": "2021-04-16T16:01:24.451389Z"
    },
    "papermill": {
     "duration": 0.038663,
     "end_time": "2021-04-16T16:01:24.452247",
     "exception": false,
     "start_time": "2021-04-16T16:01:24.413584",
     "status": "completed"
    },
    "tags": []
   },
   "outputs": [],
   "source": [
    "# # 题目4-模型改进-只取后5h-cell\n",
    "# dim_5h = 18 * 5 + 1\n",
    "# w_5h = np.zeros([dim_5h, 1])\n",
    "# n_train_set = math.floor(12 * 471)\n",
    "# #train\n",
    "# learning_rate = 2\n",
    "# iter_time = 1000\n",
    "# eps = 0.0000000001\n",
    "# #np.ones全部赋为1, concatenate数组拼接\n",
    "# x_5h = np.concatenate((np.ones([n_train_set, 1]), x_5h), axis = 1).astype(float)\n",
    "# #train\n",
    "# adagrad_5h = np.zeros([dim_5h, 1])\n",
    "# for t in range(iter_time):\n",
    "#     #np.dot矩阵点积, power:x^y\n",
    "#     loss = np.sqrt(np.sum(np.power(np.dot(x_5h, w_5h) - y, 2))/n_train_set)#rmse标准差\n",
    "#     #每进行100次迭代, 输出loss值\n",
    "#     if(t%100==0):\n",
    "#         print(str(t) + \":\" + str(loss))\n",
    "#     #transpose矩阵转置\n",
    "#     gradient_5h = 2 * np.dot(x_5h.transpose(), np.dot(x_5h, w_5h) - y) #dim*1\n",
    "#     adagrad_5h += gradient_5h ** 2\n",
    "#     w_5h = w_5h - learning_rate * gradient_5h / np.sqrt(adagrad_5h + eps)\n",
    "# np.save('weight_5h.npy', w_5h)\n",
    "# w_5h"
   ]
  },
  {
   "cell_type": "code",
   "execution_count": 14,
   "id": "confused-cabinet",
   "metadata": {
    "execution": {
     "iopub.execute_input": "2021-04-16T16:01:24.519771Z",
     "iopub.status.busy": "2021-04-16T16:01:24.519003Z",
     "iopub.status.idle": "2021-04-16T16:01:24.521836Z",
     "shell.execute_reply": "2021-04-16T16:01:24.522384Z"
    },
    "papermill": {
     "duration": 0.039376,
     "end_time": "2021-04-16T16:01:24.522589",
     "exception": false,
     "start_time": "2021-04-16T16:01:24.483213",
     "status": "completed"
    },
    "tags": []
   },
   "outputs": [],
   "source": [
    "# # 题目4-测试集预测-只取后5h-cell\n",
    "# #测试集输入数据标准化\n",
    "# mean_x_5h = np.mean(test_x_5h, axis = 0)\n",
    "# std_x_5h = np.std(test_x_5h, axis = 0) #标准差\n",
    "# for i in range(len(test_x_5h)):\n",
    "#     for j in range(len(test_x_5h[0])):\n",
    "#         if std_x_5h[j] != 0:\n",
    "#             test_x_5h[i][j] = (test_x_5h[i][j] - mean_x_5h[j]) / std_x_5h[j]\n",
    "# test_x_5h = np.concatenate((np.ones([240, 1]), test_x_5h), axis = 1).astype(float)"
   ]
  },
  {
   "cell_type": "code",
   "execution_count": 15,
   "id": "electronic-manchester",
   "metadata": {
    "execution": {
     "iopub.execute_input": "2021-04-16T16:01:24.593135Z",
     "iopub.status.busy": "2021-04-16T16:01:24.592409Z",
     "iopub.status.idle": "2021-04-16T16:01:24.594837Z",
     "shell.execute_reply": "2021-04-16T16:01:24.595378Z"
    },
    "papermill": {
     "duration": 0.040915,
     "end_time": "2021-04-16T16:01:24.595619",
     "exception": false,
     "start_time": "2021-04-16T16:01:24.554704",
     "status": "completed"
    },
    "tags": []
   },
   "outputs": [],
   "source": [
    "# # 题目4-测试集预测-只取后5h-cell\n",
    "# #预测\n",
    "# w_5h = np.load('weight_5h.npy')\n",
    "# ans_y_5h = np.dot(test_x_5h, w_5h)\n",
    "# # ans_y_5h\n",
    "# #保存预测数据\n",
    "# import csv\n",
    "# with open('submit.csv', mode='w', newline='') as submit_file:\n",
    "#     csv_writer = csv.writer(submit_file)\n",
    "#     header = ['id', 'value']\n",
    "#     print(header)\n",
    "#     csv_writer.writerow(header)\n",
    "#     for i in range(240):\n",
    "#         row = ['id_' + str(i), ans_y_5h[i][0]]\n",
    "#         csv_writer.writerow(row)\n",
    "#         print(row)"
   ]
  },
  {
   "cell_type": "code",
   "execution_count": 16,
   "id": "abstract-plenty",
   "metadata": {
    "execution": {
     "iopub.execute_input": "2021-04-16T16:01:24.661630Z",
     "iopub.status.busy": "2021-04-16T16:01:24.660893Z",
     "iopub.status.idle": "2021-04-16T16:01:24.664309Z",
     "shell.execute_reply": "2021-04-16T16:01:24.665071Z"
    },
    "papermill": {
     "duration": 0.038868,
     "end_time": "2021-04-16T16:01:24.665253",
     "exception": false,
     "start_time": "2021-04-16T16:01:24.626385",
     "status": "completed"
    },
    "tags": []
   },
   "outputs": [],
   "source": [
    "# # 题目3-PM2.5输入特征划分-cell\n",
    "# n_train_set = math.floor(12 * 471 * 0.8)\n",
    "# n_validation_set = math.ceil(12 * 471 * 0.2)\n",
    "\n",
    "# # x = np.empty([12 * 471, 18 * 9], dtype = float)\n",
    "# x_train_set_PM = np.empty([n_train_set, 1 * 9], dtype = float)\n",
    "# x_validation_PM = np.empty([n_validation_set, 1 * 9], dtype = float)\n",
    "# for hour in range(9):#每笔输入数据中的小时9, 和提取PM2.5所在的行数9, 在理解的时候不要搞混\n",
    "#     x_train_set_PM[:,hour] = x_train_set[:, 18*hour + 9]\n",
    "#     x_validation_PM[:,hour] = x_validation[:, 18*hour + 9]\n",
    "# x_train_set_PM, x_validation_PM"
   ]
  },
  {
   "cell_type": "code",
   "execution_count": 17,
   "id": "strong-worst",
   "metadata": {
    "execution": {
     "iopub.execute_input": "2021-04-16T16:01:24.733711Z",
     "iopub.status.busy": "2021-04-16T16:01:24.733000Z",
     "iopub.status.idle": "2021-04-16T16:01:24.736718Z",
     "shell.execute_reply": "2021-04-16T16:01:24.737197Z"
    },
    "papermill": {
     "duration": 0.038377,
     "end_time": "2021-04-16T16:01:24.737384",
     "exception": false,
     "start_time": "2021-04-16T16:01:24.699007",
     "status": "completed"
    },
    "tags": []
   },
   "outputs": [],
   "source": [
    "# # 题目3-全属性对比只输入PM2.5数据-cell\n",
    "# # 训练\n",
    "# dim = 18 * 9 + 1\n",
    "# w = np.zeros([dim, 1])\n",
    "# x_train_set = np.concatenate((np.ones([n_train_set, 1]), x_train_set), axis = 1).astype(float)\n",
    "# # x_train_set\n",
    "# #train\n",
    "# learning_rate = 100\n",
    "# iter_time = 1000\n",
    "# adagrad = np.zeros([dim, 1])\n",
    "# eps = 0.0000000001\n",
    "# for t in range(iter_time):\n",
    "#     loss = np.sqrt(np.sum(np.power(np.dot(x_train_set, w) - y_train_set, 2))/n_train_set)#rmse标准差也要根据划分后的数据笔数修改所除的n\n",
    "#     #每进行100次迭代, 输出loss值\n",
    "# #     if(t%100==0):\n",
    "# #         print(str(t) + \":\" + str(loss))\n",
    "#     #transpose矩阵转置\n",
    "#     gradient = 2 * np.dot(x_train_set.transpose(), np.dot(x_train_set, w) - y_train_set) #dim*1\n",
    "#     adagrad += gradient ** 2\n",
    "#     w = w - learning_rate * gradient / np.sqrt(adagrad + eps)"
   ]
  },
  {
   "cell_type": "code",
   "execution_count": 18,
   "id": "satisfied-semiconductor",
   "metadata": {
    "execution": {
     "iopub.execute_input": "2021-04-16T16:01:24.805140Z",
     "iopub.status.busy": "2021-04-16T16:01:24.803894Z",
     "iopub.status.idle": "2021-04-16T16:01:24.809281Z",
     "shell.execute_reply": "2021-04-16T16:01:24.809796Z"
    },
    "papermill": {
     "duration": 0.040594,
     "end_time": "2021-04-16T16:01:24.809990",
     "exception": false,
     "start_time": "2021-04-16T16:01:24.769396",
     "status": "completed"
    },
    "tags": []
   },
   "outputs": [],
   "source": [
    "# # 题目3-cell\n",
    "# # PM2.5训练\n",
    "# dim_PM = 1 * 9 + 1\n",
    "# w_PM = np.zeros([dim_PM, 1])\n",
    "# #np.ones全部赋为1, concatenate数组拼接\n",
    "# x_train_set_PM = np.concatenate((np.ones([n_train_set, 1]), x_train_set_PM), axis = 1).astype(float)\n",
    "# #train\n",
    "# adagrad_PM = np.zeros([dim_PM, 1])\n",
    "# for t in range(iter_time):\n",
    "#     #np.dot矩阵点积, power:x^y\n",
    "#     loss = np.sqrt(np.sum(np.power(np.dot(x_train_set_PM, w_PM) - y_train_set, 2))/n_train_set)#rmse标准差\n",
    "#     #每进行100次迭代, 输出loss值\n",
    "# #     if(t%100==0):\n",
    "# #         print(str(t) + \":\" + str(loss))\n",
    "#     #transpose矩阵转置\n",
    "#     gradient_PM = 2 * np.dot(x_train_set_PM.transpose(), np.dot(x_train_set_PM, w_PM) - y_train_set) #dim*1\n",
    "#     adagrad_PM += gradient_PM ** 2\n",
    "#     w_PM = w_PM - learning_rate * gradient_PM / np.sqrt(adagrad_PM + eps)\n",
    "    \n",
    "    \n",
    "# # 测试\n",
    "# x_validation = np.concatenate((np.ones([n_validation_set, 1]), x_validation), axis = 1).astype(float)\n",
    "# ans_y = np.dot(x_validation, w)\n",
    "# # PM2.5\n",
    "# x_validation_PM = np.concatenate((np.ones([n_validation_set, 1]), x_validation_PM), axis = 1).astype(float)\n",
    "# ans_y_PM = np.dot(x_validation_PM, w_PM)\n",
    "\n",
    "\n",
    "# # 分别计算平均误差\n",
    "# n_vali=len(ans_y)\n",
    "# average_error=0\n",
    "# for i in range(0, n_vali):  \n",
    "#     average_error+=abs(y_validation[i][0]-ans_y[i][0])\n",
    "# average_error/=n_vali\n",
    "# # PM2.5\n",
    "# average_error_PM=0\n",
    "# for i in range(0, n_vali):  \n",
    "#     average_error_PM+=abs(y_validation[i][0]-ans_y_PM[i][0])\n",
    "# average_error_PM/=n_vali\n",
    "\n",
    "# print(average_error)\n",
    "# print(average_error_PM)"
   ]
  },
  {
   "cell_type": "code",
   "execution_count": 19,
   "id": "strong-tablet",
   "metadata": {
    "execution": {
     "iopub.execute_input": "2021-04-16T16:01:24.876180Z",
     "iopub.status.busy": "2021-04-16T16:01:24.875246Z",
     "iopub.status.idle": "2021-04-16T16:01:24.878644Z",
     "shell.execute_reply": "2021-04-16T16:01:24.879154Z"
    },
    "papermill": {
     "duration": 0.038219,
     "end_time": "2021-04-16T16:01:24.879326",
     "exception": false,
     "start_time": "2021-04-16T16:01:24.841107",
     "status": "completed"
    },
    "tags": []
   },
   "outputs": [],
   "source": [
    "# # 题目2-5小时输入划分-cell\n",
    "# x_train_set_5h = x_train_set[:, (4*18):]\n",
    "# x_validation_5h = x_validation[:, (4*18):]"
   ]
  },
  {
   "cell_type": "code",
   "execution_count": 20,
   "id": "mechanical-suicide",
   "metadata": {
    "execution": {
     "iopub.execute_input": "2021-04-16T16:01:24.946914Z",
     "iopub.status.busy": "2021-04-16T16:01:24.946142Z",
     "iopub.status.idle": "2021-04-16T16:01:24.950173Z",
     "shell.execute_reply": "2021-04-16T16:01:24.950772Z"
    },
    "papermill": {
     "duration": 0.040075,
     "end_time": "2021-04-16T16:01:24.950972",
     "exception": false,
     "start_time": "2021-04-16T16:01:24.910897",
     "status": "completed"
    },
    "tags": []
   },
   "outputs": [],
   "source": [
    "# #题目2-5h,9h对比数据训练-cell\n",
    "# dim = 18 * 9 + 1\n",
    "# n_train_set = math.floor(12 * 471 * 0.8)\n",
    "# w = np.zeros([dim, 1])\n",
    "# x_train_set = np.concatenate((np.ones([n_train_set, 1]), x_train_set), axis = 1).astype(float)\n",
    "# # x_train_set\n",
    "# #train\n",
    "# learning_rate = 100\n",
    "# iter_time = 1000\n",
    "# adagrad = np.zeros([dim, 1])\n",
    "# eps = 0.0000000001\n",
    "# for t in range(iter_time):\n",
    "#     loss = np.sqrt(np.sum(np.power(np.dot(x_train_set, w) - y_train_set, 2))/n_train_set)#rmse标准差也要根据划分后的数据笔数修改所除的n\n",
    "#     #每进行100次迭代, 输出loss值\n",
    "#     if(t%100==0):\n",
    "#         print(str(t) + \":\" + str(loss))\n",
    "#     #transpose矩阵转置\n",
    "#     gradient = 2 * np.dot(x_train_set.transpose(), np.dot(x_train_set, w) - y_train_set) #dim*1\n",
    "#     adagrad += gradient ** 2\n",
    "#     w = w - learning_rate * gradient / np.sqrt(adagrad + eps)\n",
    "# # 5h\n",
    "# dim_5h = 18 * 5 + 1\n",
    "# w_5h = np.zeros([dim_5h, 1])\n",
    "# #np.ones全部赋为1, concatenate数组拼接\n",
    "# x_train_set_5h = np.concatenate((np.ones([n_train_set, 1]), x_train_set_5h), axis = 1).astype(float)\n",
    "# #train\n",
    "# adagrad_5h = np.zeros([dim_5h, 1])\n",
    "# for t in range(iter_time):\n",
    "#     #np.dot矩阵点积, power:x^y\n",
    "#     loss = np.sqrt(np.sum(np.power(np.dot(x_train_set_5h, w_5h) - y_train_set, 2))/n_train_set)#rmse标准差\n",
    "#     #每进行100次迭代, 输出loss值\n",
    "# #     if(t%100==0):\n",
    "# #         print(str(t) + \":\" + str(loss))\n",
    "#     #transpose矩阵转置\n",
    "#     gradient_5h = 2 * np.dot(x_train_set_5h.transpose(), np.dot(x_train_set_5h, w_5h) - y_train_set) #dim*1\n",
    "#     adagrad_5h += gradient_5h ** 2\n",
    "#     w_5h = w_5h - learning_rate * gradient_5h / np.sqrt(adagrad_5h + eps)"
   ]
  },
  {
   "cell_type": "code",
   "execution_count": 21,
   "id": "covered-player",
   "metadata": {
    "execution": {
     "iopub.execute_input": "2021-04-16T16:01:25.018056Z",
     "iopub.status.busy": "2021-04-16T16:01:25.017287Z",
     "iopub.status.idle": "2021-04-16T16:01:25.020815Z",
     "shell.execute_reply": "2021-04-16T16:01:25.021305Z"
    },
    "papermill": {
     "duration": 0.039095,
     "end_time": "2021-04-16T16:01:25.021487",
     "exception": false,
     "start_time": "2021-04-16T16:01:24.982392",
     "status": "completed"
    },
    "tags": []
   },
   "outputs": [],
   "source": [
    "# #题目2-5h,9h对比数据测试-cell\n",
    "# #test\n",
    "# x_validation = np.concatenate((np.ones([math.ceil(12 * 471 * 0.2), 1]), x_validation), axis = 1).astype(float)\n",
    "# # test_x\n",
    "# # w = np.load('weight-by-train-set.npy')\n",
    "# ans_y = np.dot(x_validation, w)\n",
    "# # ans_y\n",
    "# # 5h\n",
    "# x_validation_5h = np.concatenate((np.ones([math.ceil(12 * 471 * 0.2), 1]), x_validation_5h), axis = 1).astype(float)\n",
    "# ans_y_5h = np.dot(x_validation_5h, w_5h)\n",
    "# ans_y_5h"
   ]
  },
  {
   "cell_type": "code",
   "execution_count": 22,
   "id": "minute-equipment",
   "metadata": {
    "execution": {
     "iopub.execute_input": "2021-04-16T16:01:25.089412Z",
     "iopub.status.busy": "2021-04-16T16:01:25.088476Z",
     "iopub.status.idle": "2021-04-16T16:01:25.092916Z",
     "shell.execute_reply": "2021-04-16T16:01:25.094187Z"
    },
    "papermill": {
     "duration": 0.041225,
     "end_time": "2021-04-16T16:01:25.094378",
     "exception": false,
     "start_time": "2021-04-16T16:01:25.053153",
     "status": "completed"
    },
    "tags": []
   },
   "outputs": [],
   "source": [
    "# #题目2-分别计算平均误差-cell\n",
    "# n_vali=len(ans_y)\n",
    "# average_error=0\n",
    "# for i in range(0, n_vali):  \n",
    "#     average_error+=abs(y_validation[i][0]-ans_y[i][0])\n",
    "# average_error/=n_vali\n",
    "# # 5h\n",
    "# average_error_5h=0\n",
    "# for i in range(0, n_vali):  \n",
    "#     average_error_5h+=abs(y_validation[i][0]-ans_y_5h[i][0])\n",
    "# average_error_5h/=n_vali\n",
    "\n",
    "# print(average_error)\n",
    "# print(average_error_5h)"
   ]
  },
  {
   "cell_type": "markdown",
   "id": "viral-vertex",
   "metadata": {
    "papermill": {
     "duration": 0.032592,
     "end_time": "2021-04-16T16:01:25.159174",
     "exception": false,
     "start_time": "2021-04-16T16:01:25.126582",
     "status": "completed"
    },
    "tags": []
   },
   "source": [
    "# **Training**\n",
    "\n",
    "下面的 code 採用 Root Mean Square Error\n",
    "\n",
    "因為常數項的存在，所以 dimension (dim) 需要多加一欄；eps 項是避免 adagrad 的分母為 0 而加的極小數值。\n",
    "\n",
    "每一個 dimension (dim) 會對應到各自的 gradient, weight (w)，透過一次次的 iteration (iter_time) 學習。"
   ]
  },
  {
   "cell_type": "code",
   "execution_count": 23,
   "id": "prompt-production",
   "metadata": {
    "execution": {
     "iopub.execute_input": "2021-04-16T16:01:25.235214Z",
     "iopub.status.busy": "2021-04-16T16:01:25.234411Z",
     "iopub.status.idle": "2021-04-16T16:01:25.248431Z",
     "shell.execute_reply": "2021-04-16T16:01:25.248937Z"
    },
    "papermill": {
     "duration": 0.053389,
     "end_time": "2021-04-16T16:01:25.249127",
     "exception": false,
     "start_time": "2021-04-16T16:01:25.195738",
     "status": "completed"
    },
    "tags": []
   },
   "outputs": [
    {
     "data": {
      "text/plain": [
       "array([[ 1.        , -1.35825331, -1.35883937, ...,  0.26650729,\n",
       "         0.2656797 , -1.14082131],\n",
       "       [ 1.        , -1.35825331, -1.35883937, ...,  0.26650729,\n",
       "        -1.13963133, -1.32832904],\n",
       "       [ 1.        , -1.35825331, -1.51789368, ..., -1.13923451,\n",
       "        -1.32700613, -0.85955971],\n",
       "       ...,\n",
       "       [ 1.        , -0.88092053, -0.72262212, ..., -0.57693779,\n",
       "        -0.29644471, -0.39079039],\n",
       "       [ 1.        , -0.7218096 , -0.56356781, ..., -0.29578943,\n",
       "        -0.39013211, -0.1095288 ],\n",
       "       [ 1.        , -0.56269867, -0.72262212, ..., -0.38950555,\n",
       "        -0.10906991,  0.07797893]])"
      ]
     },
     "execution_count": 23,
     "metadata": {},
     "output_type": "execute_result"
    }
   ],
   "source": [
    "# baseline-cell\n",
    "dim = 18 * 9 + 1\n",
    "w = np.zeros([dim, 1])\n",
    "#np.ones全部赋为1, concatenate数组拼接\n",
    "x = np.concatenate((np.ones([12 * 471, 1]), x), axis = 1).astype(float)\n",
    "x"
   ]
  },
  {
   "cell_type": "code",
   "execution_count": 24,
   "id": "subject-marathon",
   "metadata": {
    "execution": {
     "iopub.execute_input": "2021-04-16T16:01:25.320217Z",
     "iopub.status.busy": "2021-04-16T16:01:25.319104Z",
     "iopub.status.idle": "2021-04-16T16:01:25.321627Z",
     "shell.execute_reply": "2021-04-16T16:01:25.322121Z"
    },
    "papermill": {
     "duration": 0.041004,
     "end_time": "2021-04-16T16:01:25.322293",
     "exception": false,
     "start_time": "2021-04-16T16:01:25.281289",
     "status": "completed"
    },
    "tags": []
   },
   "outputs": [],
   "source": [
    "# #题目1-作图cell\n",
    "# learning_rate = [0.5, 2, 50, 100]\n",
    "# iter_time = 1000\n",
    "# adagrad = np.zeros([dim, 1])\n",
    "# eps = 0.0000000001\n",
    "# model_data = {\n",
    "#     't': [ ],\n",
    "#     'loss1': [ ],\n",
    "#     'loss2': [ ],\n",
    "#     'loss3': [ ],\n",
    "#     'loss4': [ ]\n",
    "# }\n",
    "# w1=w#因为作图时不同学习率都要用到w,adagrad,需要留底或重置\n",
    "# w2=w\n",
    "# w3=w\n",
    "# w4=w\n",
    "# for t in range(iter_time):\n",
    "#     #np.dot矩阵点积, power:x^y\n",
    "#     loss1 = np.sqrt(np.sum(np.power(np.dot(x, w1) - y, 2))/471/12)#rmse标准差\n",
    "#     #transpose矩阵转置\n",
    "#     gradient = 2 * np.dot(x.transpose(), np.dot(x, w1) - y) #dim*1\n",
    "#     adagrad += gradient ** 2\n",
    "#     w1 = w1 - learning_rate[0] * gradient / np.sqrt(adagrad + eps)\n",
    "#     model_data['t'].append(t)\n",
    "#     model_data['loss1'].append(loss1)\n",
    "# adagrad = np.zeros([dim, 1])\n",
    "# for t in range(iter_time):\n",
    "#     #np.dot矩阵点积, power:x^y\n",
    "#     loss2 = np.sqrt(np.sum(np.power(np.dot(x, w2) - y, 2))/471/12)#rmse标准差\n",
    "#     #transpose矩阵转置\n",
    "#     gradient = 2 * np.dot(x.transpose(), np.dot(x, w2) - y) #dim*1\n",
    "#     adagrad += gradient ** 2\n",
    "#     w2 = w2 - learning_rate[1] * gradient / np.sqrt(adagrad + eps)\n",
    "#     model_data['loss2'].append(loss2)\n",
    "# adagrad = np.zeros([dim, 1])\n",
    "# for t in range(iter_time):\n",
    "#     #np.dot矩阵点积, power:x^y\n",
    "#     loss3 = np.sqrt(np.sum(np.power(np.dot(x, w3) - y, 2))/471/12)#rmse标准差\n",
    "#     #transpose矩阵转置\n",
    "#     gradient = 2 * np.dot(x.transpose(), np.dot(x, w3) - y) #dim*1\n",
    "#     adagrad += gradient ** 2\n",
    "#     w3 = w3 - learning_rate[2] * gradient / np.sqrt(adagrad + eps)\n",
    "#     model_data['loss3'].append(loss3)\n",
    "# adagrad = np.zeros([dim, 1])\n",
    "# for t in range(iter_time):\n",
    "#     #np.dot矩阵点积, power:x^y\n",
    "#     loss4 = np.sqrt(np.sum(np.power(np.dot(x, w4) - y, 2))/471/12)#rmse标准差\n",
    "#     #transpose矩阵转置\n",
    "#     gradient = 2 * np.dot(x.transpose(), np.dot(x, w4) - y) #dim*1\n",
    "#     adagrad += gradient ** 2\n",
    "#     w4 = w4 - learning_rate[3] * gradient / np.sqrt(adagrad + eps)\n",
    "#     model_data['loss4'].append(loss4)\n",
    "# # model_data"
   ]
  },
  {
   "cell_type": "code",
   "execution_count": 25,
   "id": "removed-march",
   "metadata": {
    "execution": {
     "iopub.execute_input": "2021-04-16T16:01:25.391128Z",
     "iopub.status.busy": "2021-04-16T16:01:25.390105Z",
     "iopub.status.idle": "2021-04-16T16:01:25.394258Z",
     "shell.execute_reply": "2021-04-16T16:01:25.394739Z"
    },
    "papermill": {
     "duration": 0.040432,
     "end_time": "2021-04-16T16:01:25.394919",
     "exception": false,
     "start_time": "2021-04-16T16:01:25.354487",
     "status": "completed"
    },
    "tags": []
   },
   "outputs": [],
   "source": [
    "# #题目1-作图cell\n",
    "# import matplotlib.pyplot as plt\n",
    " \n",
    "# #读取数据\n",
    "# # model_data = {\n",
    "# #     't': [1,2,3],\n",
    "# #     'loss': [7.1,23.2,11.8]\n",
    "# # }\n",
    "# plt.figure(figsize=(10,5))#设置画布的尺寸\n",
    "# plt.title('Loss-Iteration Line Chart',fontsize=20)#标题，并设定字号大小\n",
    "# plt.xlabel(u'x-iteration times',fontsize=14)#设置x轴，并设定字号大小\n",
    "# plt.ylabel(u'y-loss',fontsize=14)#设置y轴，并设定字号大小\n",
    "# plt.xlim((0, 1000))\n",
    "# plt.ylim((5, 15))\n",
    "# #color：颜色，linewidth：线宽，linestyle：线条类型，label：图例，marker：数据点的类型\n",
    "# plt.plot(model_data['t'],model_data['loss1'],color=\"darkblue\",linewidth=1,linestyle='--',label='learning_rate=0.5', marker='+')\n",
    "# plt.plot(model_data['t'],model_data['loss2'],color=\"deeppink\",linewidth=2,linestyle=':',label='learning_rate=2', marker='o')\n",
    "# plt.plot(model_data['t'],model_data['loss3'],color=\"goldenrod\",linewidth=1.5,linestyle='-',label='learning_rate=50', marker='*')\n",
    "# plt.plot(model_data['t'],model_data['loss4'],color=\"green\",linewidth=1.5,linestyle='-',label='learning_rate=100', marker='*')\n",
    "\n",
    " \n",
    "# plt.legend(loc=1)#图例展示位置，数字代表第几象限\n",
    "# plt.show()#显示图像"
   ]
  },
  {
   "cell_type": "code",
   "execution_count": 26,
   "id": "accredited-accuracy",
   "metadata": {
    "execution": {
     "iopub.execute_input": "2021-04-16T16:01:25.463580Z",
     "iopub.status.busy": "2021-04-16T16:01:25.462502Z",
     "iopub.status.idle": "2021-04-16T16:01:25.466603Z",
     "shell.execute_reply": "2021-04-16T16:01:25.467078Z"
    },
    "papermill": {
     "duration": 0.040215,
     "end_time": "2021-04-16T16:01:25.467259",
     "exception": false,
     "start_time": "2021-04-16T16:01:25.427044",
     "status": "completed"
    },
    "tags": []
   },
   "outputs": [],
   "source": [
    "# # baseline-cell\n",
    "# learning_rate = 100\n",
    "# iter_time = 1000\n",
    "# adagrad = np.zeros([dim, 1])\n",
    "# eps = 0.0000000001\n",
    "# for t in range(iter_time):\n",
    "#     #np.dot矩阵点积, power:x^y\n",
    "#     loss = np.sqrt(np.sum(np.power(np.dot(x, w) - y, 2))/471/12)#rmse标准差\n",
    "#     #每进行100次迭代, 输出loss值\n",
    "#     if(t%100==0):\n",
    "#         print(str(t) + \":\" + str(loss))\n",
    "#     #transpose矩阵转置\n",
    "#     gradient = 2 * np.dot(x.transpose(), np.dot(x, w) - y) #dim*1\n",
    "#     adagrad += gradient ** 2\n",
    "#     w = w - learning_rate * gradient / np.sqrt(adagrad + eps)\n",
    "# np.save('weight.npy', w)\n",
    "# w"
   ]
  },
  {
   "cell_type": "code",
   "execution_count": 27,
   "id": "impressive-interim",
   "metadata": {
    "execution": {
     "iopub.execute_input": "2021-04-16T16:01:25.547404Z",
     "iopub.status.busy": "2021-04-16T16:01:25.535472Z",
     "iopub.status.idle": "2021-04-16T16:01:26.555949Z",
     "shell.execute_reply": "2021-04-16T16:01:26.556843Z"
    },
    "papermill": {
     "duration": 1.057362,
     "end_time": "2021-04-16T16:01:26.557131",
     "exception": false,
     "start_time": "2021-04-16T16:01:25.499769",
     "status": "completed"
    },
    "tags": []
   },
   "outputs": [
    {
     "name": "stdout",
     "output_type": "stream",
     "text": [
      "0:27.071214829194115\n",
      "100:9.588690799485795\n",
      "200:7.121841139361655\n",
      "300:6.4061074254747465\n",
      "400:6.15938050752305\n",
      "500:6.04409754514142\n",
      "600:5.973692347512183\n",
      "700:5.923744683044117\n",
      "800:5.885665583627625\n",
      "900:5.855509409810967\n",
      "1000:5.831047240421956\n",
      "1100:5.810858454544786\n"
     ]
    },
    {
     "data": {
      "text/plain": [
       "array([[ 2.13728279e+01],\n",
       "       [ 4.11497788e-01],\n",
       "       [-3.80380289e-01],\n",
       "       [ 7.21842933e-02],\n",
       "       [-8.91467463e-01],\n",
       "       [-2.25508545e-02],\n",
       "       [ 3.44019091e-01],\n",
       "       [-2.13831600e-01],\n",
       "       [-6.56933554e-01],\n",
       "       [ 1.22235755e+00],\n",
       "       [-2.54816751e-01],\n",
       "       [ 4.63543837e-02],\n",
       "       [ 9.44164043e-02],\n",
       "       [ 1.04106009e-01],\n",
       "       [-7.66441610e-02],\n",
       "       [-2.14618078e-02],\n",
       "       [-1.26818538e-01],\n",
       "       [ 1.37635432e-01],\n",
       "       [ 5.39310403e-01],\n",
       "       [ 7.02086106e-02],\n",
       "       [-3.66774486e-02],\n",
       "       [ 7.05143668e-02],\n",
       "       [-1.33854887e-01],\n",
       "       [ 1.44584733e-01],\n",
       "       [-6.00804379e-02],\n",
       "       [-1.51868955e-01],\n",
       "       [ 1.02265363e-01],\n",
       "       [ 4.17781144e-01],\n",
       "       [-2.30133026e-01],\n",
       "       [ 1.86481170e-01],\n",
       "       [-9.32997343e-02],\n",
       "       [ 2.47173489e-01],\n",
       "       [ 1.70119978e-01],\n",
       "       [-3.15460814e-01],\n",
       "       [ 3.83557338e-02],\n",
       "       [ 1.23310294e-01],\n",
       "       [ 1.48176432e-01],\n",
       "       [ 7.73059724e-02],\n",
       "       [ 2.12019052e-02],\n",
       "       [ 3.00832707e-01],\n",
       "       [-8.03078528e-02],\n",
       "       [-5.70304773e-02],\n",
       "       [-1.79786270e-01],\n",
       "       [ 1.83839142e-01],\n",
       "       [ 2.54670834e-01],\n",
       "       [-4.38374672e-01],\n",
       "       [ 1.93841322e-01],\n",
       "       [-3.19228254e-01],\n",
       "       [-1.75952941e-01],\n",
       "       [-2.32962392e-01],\n",
       "       [-5.53488621e-02],\n",
       "       [-4.45485515e-02],\n",
       "       [-3.77000811e-01],\n",
       "       [-4.15334451e-01],\n",
       "       [ 1.03531455e+00],\n",
       "       [ 7.86179082e-02],\n",
       "       [-2.72054996e-01],\n",
       "       [ 3.96421132e-03],\n",
       "       [ 1.08684957e-01],\n",
       "       [ 7.38022024e-02],\n",
       "       [ 4.72597698e-02],\n",
       "       [-1.91650119e-01],\n",
       "       [-3.90524591e-02],\n",
       "       [ 9.45793781e-01],\n",
       "       [ 7.09982812e-02],\n",
       "       [ 1.48054627e-01],\n",
       "       [-1.94299992e-01],\n",
       "       [-2.95416932e-01],\n",
       "       [-6.60940306e-02],\n",
       "       [-5.15053233e-01],\n",
       "       [-5.87949930e-01],\n",
       "       [-2.31432955e-01],\n",
       "       [ 2.03956615e+00],\n",
       "       [-2.03580441e-01],\n",
       "       [ 2.51564391e-01],\n",
       "       [ 1.87527774e-01],\n",
       "       [ 5.39599894e-02],\n",
       "       [-3.71530863e-01],\n",
       "       [ 2.54180620e-01],\n",
       "       [ 6.83281912e-02],\n",
       "       [-3.13791049e-01],\n",
       "       [ 1.59610219e+00],\n",
       "       [-1.30874327e-01],\n",
       "       [ 4.19325687e-01],\n",
       "       [ 8.42264032e-01],\n",
       "       [-1.40546191e+00],\n",
       "       [ 7.86021839e-01],\n",
       "       [ 3.94138847e+00],\n",
       "       [-6.37023110e+00],\n",
       "       [ 1.45274598e+00],\n",
       "       [ 1.39503083e+01],\n",
       "       [ 6.18690322e-02],\n",
       "       [ 1.22995857e-02],\n",
       "       [-1.12028656e-01],\n",
       "       [ 2.81358429e-03],\n",
       "       [-9.08953995e-02],\n",
       "       [ 1.20968212e-01],\n",
       "       [ 1.63402491e-02],\n",
       "       [-5.99273037e-02],\n",
       "       [-1.87237498e-01],\n",
       "       [-2.61182265e-02],\n",
       "       [ 3.88313773e-01],\n",
       "       [-1.79873255e-01],\n",
       "       [-5.01915585e-01],\n",
       "       [-3.36599366e-01],\n",
       "       [ 4.81294906e-01],\n",
       "       [-9.42560905e-01],\n",
       "       [ 1.44268822e-01],\n",
       "       [ 5.89791541e-01],\n",
       "       [-5.16631109e-01],\n",
       "       [ 6.14118699e-01],\n",
       "       [-1.29214735e-01],\n",
       "       [-8.99709084e-02],\n",
       "       [-7.55512752e-02],\n",
       "       [ 1.61659071e-01],\n",
       "       [-1.88703835e-01],\n",
       "       [ 1.77163579e-01],\n",
       "       [ 3.40439231e-01],\n",
       "       [ 2.73994560e-01],\n",
       "       [-1.10034549e-01],\n",
       "       [-3.89611897e-03],\n",
       "       [-4.06754567e-01],\n",
       "       [ 7.23325144e-02],\n",
       "       [ 2.60258520e-01],\n",
       "       [ 4.32922218e-02],\n",
       "       [-3.69794860e-01],\n",
       "       [-1.36491622e-01],\n",
       "       [-2.79089289e-02],\n",
       "       [ 2.67222489e-01],\n",
       "       [-7.18046188e-02],\n",
       "       [ 2.35621626e-01],\n",
       "       [ 5.10276004e-02],\n",
       "       [ 1.39124530e-01],\n",
       "       [-2.54269901e-01],\n",
       "       [ 1.16702933e-01],\n",
       "       [ 2.38651370e-02],\n",
       "       [-1.78054967e-01],\n",
       "       [-7.48208868e-02],\n",
       "       [ 6.79577878e-02],\n",
       "       [-2.12837837e-01],\n",
       "       [ 7.55766341e-02],\n",
       "       [ 4.39744804e-02],\n",
       "       [-2.38036649e-02],\n",
       "       [-2.54800825e-01],\n",
       "       [ 4.83083785e-02],\n",
       "       [-1.89054696e-01],\n",
       "       [-1.00588477e-01],\n",
       "       [ 2.57250037e-01],\n",
       "       [ 7.45791231e-02],\n",
       "       [-8.68114723e-02],\n",
       "       [-1.06152083e-01],\n",
       "       [-5.38224886e-02],\n",
       "       [-7.09610664e-02],\n",
       "       [-1.11277545e-01],\n",
       "       [-8.89389701e-03],\n",
       "       [ 2.06876528e-01],\n",
       "       [-2.15422495e-01],\n",
       "       [-2.59208185e-01],\n",
       "       [ 1.49363211e-02],\n",
       "       [ 3.47261114e-01],\n",
       "       [-5.30179640e-02],\n",
       "       [-2.47266471e-01],\n",
       "       [ 1.81795150e-01]])"
      ]
     },
     "execution_count": 27,
     "metadata": {},
     "output_type": "execute_result"
    }
   ],
   "source": [
    "# beat-baseline-cell\n",
    "learning_rate = 1\n",
    "iter_time = 1200\n",
    "adagrad = np.zeros([dim, 1])\n",
    "eps = 0.0000000001\n",
    "for t in range(iter_time):\n",
    "    #np.dot矩阵点积, power:x^y\n",
    "    loss = np.sqrt(np.sum(np.power(np.dot(x, w) - y, 2))/471/12)#rmse标准差\n",
    "    #每进行100次迭代, 输出loss值\n",
    "    if(t%100==0):\n",
    "        print(str(t) + \":\" + str(loss))\n",
    "    #transpose矩阵转置\n",
    "    gradient = 2 * np.dot(x.transpose(), np.dot(x, w) - y) #dim*1\n",
    "    adagrad += gradient ** 2\n",
    "    w = w - learning_rate * gradient / np.sqrt(adagrad + eps)\n",
    "np.save('weight.npy', w)\n",
    "w"
   ]
  },
  {
   "cell_type": "markdown",
   "id": "rising-neighbor",
   "metadata": {
    "papermill": {
     "duration": 0.049774,
     "end_time": "2021-04-16T16:01:26.669879",
     "exception": false,
     "start_time": "2021-04-16T16:01:26.620105",
     "status": "completed"
    },
    "tags": []
   },
   "source": [
    "# **Testing**\n",
    "載入 test data，並且以相似於訓練資料預先處理和特徵萃取的方式處理，使 test data 形成 240 個維度為 18 * 9 + 1 的資料。\n",
    "\n",
    "读取csv文件,输入x每18行加一个常数项维度, 加上前9小时数据\n",
    "\n",
    "输出矩阵weight vector与x的点乘"
   ]
  },
  {
   "cell_type": "code",
   "execution_count": 28,
   "id": "fiscal-covering",
   "metadata": {
    "execution": {
     "iopub.execute_input": "2021-04-16T16:01:26.746136Z",
     "iopub.status.busy": "2021-04-16T16:01:26.745400Z",
     "iopub.status.idle": "2021-04-16T16:01:26.816176Z",
     "shell.execute_reply": "2021-04-16T16:01:26.816847Z"
    },
    "papermill": {
     "duration": 0.112532,
     "end_time": "2021-04-16T16:01:26.817048",
     "exception": false,
     "start_time": "2021-04-16T16:01:26.704516",
     "status": "completed"
    },
    "tags": []
   },
   "outputs": [
    {
     "name": "stderr",
     "output_type": "stream",
     "text": [
      "/opt/conda/lib/python3.7/site-packages/ipykernel_launcher.py:5: SettingWithCopyWarning: \n",
      "A value is trying to be set on a copy of a slice from a DataFrame.\n",
      "Try using .loc[row_indexer,col_indexer] = value instead\n",
      "\n",
      "See the caveats in the documentation: https://pandas.pydata.org/pandas-docs/stable/user_guide/indexing.html#returning-a-view-versus-a-copy\n",
      "  \"\"\"\n",
      "/opt/conda/lib/python3.7/site-packages/pandas/core/frame.py:3212: SettingWithCopyWarning: \n",
      "A value is trying to be set on a copy of a slice from a DataFrame\n",
      "\n",
      "See the caveats in the documentation: https://pandas.pydata.org/pandas-docs/stable/user_guide/indexing.html#returning-a-view-versus-a-copy\n",
      "  self._where(-key, value, inplace=True)\n"
     ]
    }
   ],
   "source": [
    "# baseline-cell\n",
    "# testdata = pd.read_csv('gdrive/My Drive/hw1-regression/test.csv', header = None, encoding = 'big5')\n",
    "testdata = pd.read_csv('/kaggle/input/ml2020spring-hw1/test.csv', header = None, encoding = 'big5')\n",
    "test_data = testdata.iloc[:, 2:]\n",
    "test_data[test_data == 'NR'] = 0\n",
    "test_data = test_data.to_numpy()"
   ]
  },
  {
   "cell_type": "code",
   "execution_count": 29,
   "id": "recorded-missouri",
   "metadata": {
    "execution": {
     "iopub.execute_input": "2021-04-16T16:01:26.907612Z",
     "iopub.status.busy": "2021-04-16T16:01:26.906591Z",
     "iopub.status.idle": "2021-04-16T16:01:26.910571Z",
     "shell.execute_reply": "2021-04-16T16:01:26.911068Z"
    },
    "papermill": {
     "duration": 0.058028,
     "end_time": "2021-04-16T16:01:26.911254",
     "exception": false,
     "start_time": "2021-04-16T16:01:26.853226",
     "status": "completed"
    },
    "tags": []
   },
   "outputs": [],
   "source": [
    "# baseline-cell\n",
    "test_x = np.empty([240, 18*9], dtype = float)\n",
    "for i in range(240):\n",
    "    test_x[i, :] = test_data[18 * i: 18* (i + 1), :].reshape(1, -1)"
   ]
  },
  {
   "cell_type": "code",
   "execution_count": 30,
   "id": "controlled-madonna",
   "metadata": {
    "execution": {
     "iopub.execute_input": "2021-04-16T16:01:26.986486Z",
     "iopub.status.busy": "2021-04-16T16:01:26.985502Z",
     "iopub.status.idle": "2021-04-16T16:01:27.125172Z",
     "shell.execute_reply": "2021-04-16T16:01:27.124491Z"
    },
    "papermill": {
     "duration": 0.178,
     "end_time": "2021-04-16T16:01:27.125319",
     "exception": false,
     "start_time": "2021-04-16T16:01:26.947319",
     "status": "completed"
    },
    "tags": []
   },
   "outputs": [
    {
     "data": {
      "text/plain": [
       "array([[ 1.        , -0.24447681, -0.24545919, ..., -0.67065391,\n",
       "        -1.04594393,  0.07797893],\n",
       "       [ 1.        , -1.35825331, -1.51789368, ...,  0.17279117,\n",
       "        -0.10906991, -0.48454426],\n",
       "       [ 1.        ,  1.5057434 ,  1.34508393, ..., -1.32666675,\n",
       "        -1.04594393, -0.57829812],\n",
       "       ...,\n",
       "       [ 1.        ,  0.3919669 ,  0.54981237, ...,  0.26650729,\n",
       "        -0.20275731,  1.20302531],\n",
       "       [ 1.        , -1.8355861 , -1.8360023 , ..., -1.04551839,\n",
       "        -1.13963133, -1.14082131],\n",
       "       [ 1.        , -1.35825331, -1.35883937, ...,  2.98427476,\n",
       "         3.26367657,  1.76554849]])"
      ]
     },
     "execution_count": 30,
     "metadata": {},
     "output_type": "execute_result"
    }
   ],
   "source": [
    "# baseline-cell\n",
    "for i in range(len(test_x)):\n",
    "    for j in range(len(test_x[0])):\n",
    "        if std_x[j] != 0:\n",
    "            test_x[i][j] = (test_x[i][j] - mean_x[j]) / std_x[j]\n",
    "test_x = np.concatenate((np.ones([240, 1]), test_x), axis = 1).astype(float)\n",
    "test_x"
   ]
  },
  {
   "cell_type": "code",
   "execution_count": 31,
   "id": "governing-property",
   "metadata": {
    "execution": {
     "iopub.execute_input": "2021-04-16T16:01:27.202565Z",
     "iopub.status.busy": "2021-04-16T16:01:27.201835Z",
     "iopub.status.idle": "2021-04-16T16:01:27.204520Z",
     "shell.execute_reply": "2021-04-16T16:01:27.205151Z"
    },
    "papermill": {
     "duration": 0.04378,
     "end_time": "2021-04-16T16:01:27.205334",
     "exception": false,
     "start_time": "2021-04-16T16:01:27.161554",
     "status": "completed"
    },
    "tags": []
   },
   "outputs": [],
   "source": [
    "# # beat-baseline-cell\n",
    "# mean_test_x = np.mean(test_x, axis = 0) #18 * 9 \n",
    "# std_test_x = np.std(test_x, axis = 0) #18 * 9 标准差\n",
    "# for i in range(len(test_x)):\n",
    "#     for j in range(len(test_x[0])):\n",
    "#         if std_test_x[j] != 0:\n",
    "#             test_x[i][j] = (test_x[i][j] - mean_test_x[j]) / std_test_x[j]\n",
    "# test_x = np.concatenate((np.ones([240, 1]), test_x), axis = 1).astype(float)\n",
    "# test_x"
   ]
  },
  {
   "cell_type": "markdown",
   "id": "compliant-interaction",
   "metadata": {
    "papermill": {
     "duration": 0.035547,
     "end_time": "2021-04-16T16:01:27.276661",
     "exception": false,
     "start_time": "2021-04-16T16:01:27.241114",
     "status": "completed"
    },
    "tags": []
   },
   "source": [
    "# **Prediction**\n",
    "weight 和測試資料預測 target。"
   ]
  },
  {
   "cell_type": "code",
   "execution_count": 32,
   "id": "collectible-dayton",
   "metadata": {
    "execution": {
     "iopub.execute_input": "2021-04-16T16:01:27.353921Z",
     "iopub.status.busy": "2021-04-16T16:01:27.353246Z",
     "iopub.status.idle": "2021-04-16T16:01:27.367067Z",
     "shell.execute_reply": "2021-04-16T16:01:27.367984Z"
    },
    "papermill": {
     "duration": 0.055265,
     "end_time": "2021-04-16T16:01:27.368267",
     "exception": false,
     "start_time": "2021-04-16T16:01:27.313002",
     "status": "completed"
    },
    "tags": []
   },
   "outputs": [
    {
     "data": {
      "text/plain": [
       "array([[ 4.85439813e+00],\n",
       "       [ 1.70477089e+01],\n",
       "       [ 2.46824067e+01],\n",
       "       [ 8.21895055e+00],\n",
       "       [ 2.78177625e+01],\n",
       "       [ 2.19122801e+01],\n",
       "       [ 2.32222672e+01],\n",
       "       [ 3.10725644e+01],\n",
       "       [ 1.73278317e+01],\n",
       "       [ 5.85214354e+01],\n",
       "       [ 1.42229846e+01],\n",
       "       [ 1.04764815e+01],\n",
       "       [ 6.13006546e+01],\n",
       "       [ 5.26828547e+01],\n",
       "       [ 2.21617530e+01],\n",
       "       [ 1.15470080e+01],\n",
       "       [ 3.17779550e+01],\n",
       "       [ 6.79906030e+01],\n",
       "       [-1.06195816e+00],\n",
       "       [ 1.67255165e+01],\n",
       "       [ 4.23555838e+01],\n",
       "       [ 7.16196094e+01],\n",
       "       [ 9.38624200e+00],\n",
       "       [ 1.79418797e+01],\n",
       "       [ 1.50841893e+01],\n",
       "       [ 3.80694438e+01],\n",
       "       [ 1.39718392e+01],\n",
       "       [ 7.23745214e+01],\n",
       "       [ 7.58179133e+00],\n",
       "       [ 5.51948656e+01],\n",
       "       [ 2.31500835e+01],\n",
       "       [ 8.37350163e+00],\n",
       "       [ 2.41499323e+00],\n",
       "       [ 2.08350019e+01],\n",
       "       [ 2.98997667e+01],\n",
       "       [ 3.67963836e+01],\n",
       "       [ 4.27930054e+01],\n",
       "       [ 2.99159101e+01],\n",
       "       [ 4.38717384e+01],\n",
       "       [ 3.56524315e+01],\n",
       "       [ 7.05394618e+00],\n",
       "       [ 4.02847373e+01],\n",
       "       [ 3.12233218e+01],\n",
       "       [ 5.02674837e+01],\n",
       "       [ 1.63472331e+01],\n",
       "       [ 3.49036107e+01],\n",
       "       [ 2.47390998e+01],\n",
       "       [ 1.04291607e+01],\n",
       "       [ 2.45246902e+01],\n",
       "       [ 3.22319797e+01],\n",
       "       [ 2.13740691e+01],\n",
       "       [ 8.88854938e+00],\n",
       "       [ 2.09118538e+01],\n",
       "       [ 5.35251214e+01],\n",
       "       [ 1.60717021e+01],\n",
       "       [ 3.57468202e+01],\n",
       "       [ 3.22748938e+01],\n",
       "       [ 2.31928751e+01],\n",
       "       [ 5.81065124e+01],\n",
       "       [ 2.13058772e+01],\n",
       "       [ 1.57633233e+01],\n",
       "       [ 4.15388866e+01],\n",
       "       [ 1.24823820e+01],\n",
       "       [ 4.86340890e+01],\n",
       "       [ 1.52414515e+01],\n",
       "       [ 1.52737792e+01],\n",
       "       [ 1.35898508e+01],\n",
       "       [-9.82429587e-02],\n",
       "       [ 4.37656584e+01],\n",
       "       [ 3.14243941e+01],\n",
       "       [ 2.00463137e+01],\n",
       "       [ 3.90081084e+01],\n",
       "       [ 5.97311929e+01],\n",
       "       [ 4.85636608e+00],\n",
       "       [ 1.69374006e+01],\n",
       "       [ 5.50528000e+00],\n",
       "       [ 4.01612243e+01],\n",
       "       [ 1.48234771e+01],\n",
       "       [ 2.25320137e+01],\n",
       "       [ 2.26833975e+01],\n",
       "       [ 2.52025472e+01],\n",
       "       [ 3.85052467e+01],\n",
       "       [ 2.28947176e+01],\n",
       "       [ 9.03933726e+01],\n",
       "       [ 3.64009751e+01],\n",
       "       [ 2.62886846e+01],\n",
       "       [ 2.36067789e+01],\n",
       "       [ 3.06941014e+01],\n",
       "       [ 2.45794782e+01],\n",
       "       [ 2.10990318e+01],\n",
       "       [ 2.96739056e+01],\n",
       "       [ 4.07549031e+01],\n",
       "       [ 4.27428275e+00],\n",
       "       [ 3.78146208e+01],\n",
       "       [ 4.58149328e+01],\n",
       "       [ 1.59147854e+01],\n",
       "       [ 3.38116716e+01],\n",
       "       [ 1.18892415e+01],\n",
       "       [ 2.48722519e+01],\n",
       "       [ 3.85915109e+00],\n",
       "       [ 1.84298628e+01],\n",
       "       [ 2.81960140e+01],\n",
       "       [ 1.25606612e+01],\n",
       "       [ 1.56832558e+01],\n",
       "       [ 2.30863644e+01],\n",
       "       [ 3.92565481e+01],\n",
       "       [ 3.01884540e+01],\n",
       "       [ 6.77674867e+00],\n",
       "       [ 8.35362200e+00],\n",
       "       [ 7.81643182e+01],\n",
       "       [ 4.62431143e+01],\n",
       "       [ 1.53132211e+01],\n",
       "       [ 2.82995604e+01],\n",
       "       [ 1.53253356e+01],\n",
       "       [ 1.43217932e+01],\n",
       "       [ 2.52368307e+01],\n",
       "       [ 2.47818248e+01],\n",
       "       [ 1.01082591e+01],\n",
       "       [ 1.78519905e+01],\n",
       "       [ 1.94142345e+01],\n",
       "       [ 8.09650812e+01],\n",
       "       [ 2.58018996e+01],\n",
       "       [ 3.58039725e+01],\n",
       "       [ 2.50647067e+01],\n",
       "       [ 8.52665159e+00],\n",
       "       [ 4.11727947e+01],\n",
       "       [ 1.07270724e+01],\n",
       "       [ 1.98792468e+01],\n",
       "       [ 2.82482881e+01],\n",
       "       [ 6.26969726e+01],\n",
       "       [ 2.20785373e+01],\n",
       "       [ 2.25736916e+01],\n",
       "       [ 5.93354192e+01],\n",
       "       [ 1.47884883e+01],\n",
       "       [ 1.48287841e+01],\n",
       "       [ 2.33260547e+00],\n",
       "       [ 1.14527940e+01],\n",
       "       [ 5.88456644e+01],\n",
       "       [ 1.94338814e+01],\n",
       "       [ 6.02976349e+00],\n",
       "       [ 2.80316063e+01],\n",
       "       [ 2.58574243e+01],\n",
       "       [ 4.40746277e+01],\n",
       "       [ 3.07104041e+01],\n",
       "       [ 1.81653437e+01],\n",
       "       [ 2.65220049e+01],\n",
       "       [ 1.08974721e+01],\n",
       "       [ 5.17693595e+01],\n",
       "       [ 2.28065678e+01],\n",
       "       [ 3.78806987e+01],\n",
       "       [ 9.03048352e+00],\n",
       "       [ 7.22852896e+00],\n",
       "       [ 2.41842406e+01],\n",
       "       [ 6.80446429e+00],\n",
       "       [ 1.45054102e+01],\n",
       "       [ 4.13743211e+01],\n",
       "       [ 8.16516530e+00],\n",
       "       [ 3.69950940e+01],\n",
       "       [ 1.01293984e+01],\n",
       "       [ 1.86427417e+01],\n",
       "       [ 4.10791435e+01],\n",
       "       [ 1.81089585e+01],\n",
       "       [ 1.14259480e+01],\n",
       "       [ 7.58784627e+00],\n",
       "       [ 5.12086006e+01],\n",
       "       [ 2.99071137e+01],\n",
       "       [-5.56291382e-01],\n",
       "       [ 1.52624453e+01],\n",
       "       [ 6.29189908e+01],\n",
       "       [ 1.41063263e+01],\n",
       "       [ 6.44203788e+01],\n",
       "       [ 3.96210029e+01],\n",
       "       [ 2.60965917e+01],\n",
       "       [ 2.05448219e+01],\n",
       "       [ 6.16339171e+01],\n",
       "       [ 2.46586428e+01],\n",
       "       [ 2.09143689e+01],\n",
       "       [ 3.67671527e+01],\n",
       "       [ 1.19306963e+01],\n",
       "       [ 3.05771827e+01],\n",
       "       [ 1.67496980e+01],\n",
       "       [ 1.14763523e+01],\n",
       "       [ 5.54831396e+01],\n",
       "       [ 4.59076494e+01],\n",
       "       [ 1.70682043e+01],\n",
       "       [ 3.56002647e+01],\n",
       "       [ 2.64685015e+01],\n",
       "       [ 6.97023885e+01],\n",
       "       [ 9.96283924e+00],\n",
       "       [ 5.63391184e+01],\n",
       "       [ 3.79549660e+01],\n",
       "       [ 1.62532636e+01],\n",
       "       [ 2.98768654e+01],\n",
       "       [ 5.95067369e-01],\n",
       "       [ 1.93546045e+01],\n",
       "       [ 7.46199117e-01],\n",
       "       [ 3.43084470e+01],\n",
       "       [ 1.03962191e+01],\n",
       "       [ 1.82248124e+01],\n",
       "       [ 6.13762418e+01],\n",
       "       [ 2.40191483e+01],\n",
       "       [ 2.28534224e+01],\n",
       "       [ 6.46410245e+01],\n",
       "       [ 1.04439198e+01],\n",
       "       [ 9.07092761e+00],\n",
       "       [ 1.16620664e+01],\n",
       "       [ 8.54815188e+00],\n",
       "       [ 2.33222950e+00],\n",
       "       [ 1.22658744e+02],\n",
       "       [ 1.95559556e+01],\n",
       "       [ 1.55294994e+01],\n",
       "       [ 1.42061857e+01],\n",
       "       [ 3.61142491e+01],\n",
       "       [ 3.60431772e+01],\n",
       "       [ 1.97415655e+01],\n",
       "       [ 3.39428066e+01],\n",
       "       [ 7.67534849e+01],\n",
       "       [ 6.60706536e-01],\n",
       "       [ 1.31273487e+01],\n",
       "       [ 3.29475055e+01],\n",
       "       [ 1.58948500e+01],\n",
       "       [ 1.21136524e+01],\n",
       "       [ 1.13832423e+02],\n",
       "       [ 1.25171304e+01],\n",
       "       [ 1.66475172e+01],\n",
       "       [ 6.11689856e+01],\n",
       "       [ 1.65820225e+01],\n",
       "       [ 2.01149033e+01],\n",
       "       [ 9.58531421e+00],\n",
       "       [ 3.69557211e+00],\n",
       "       [ 4.49289045e+01],\n",
       "       [ 1.38244887e+01],\n",
       "       [ 5.23986682e+01],\n",
       "       [ 4.24290883e+01],\n",
       "       [ 2.35617223e+01],\n",
       "       [ 4.17795412e+01],\n",
       "       [ 6.81279734e+01],\n",
       "       [ 3.98684243e+01],\n",
       "       [ 1.36270206e+01],\n",
       "       [ 1.63174473e+01]])"
      ]
     },
     "execution_count": 32,
     "metadata": {},
     "output_type": "execute_result"
    }
   ],
   "source": [
    "# baseline-cell\n",
    "w = np.load('weight.npy')\n",
    "ans_y = np.dot(test_x, w)\n",
    "ans_y"
   ]
  },
  {
   "cell_type": "markdown",
   "id": "express-coffee",
   "metadata": {
    "papermill": {
     "duration": 0.052376,
     "end_time": "2021-04-16T16:01:27.490606",
     "exception": false,
     "start_time": "2021-04-16T16:01:27.438230",
     "status": "completed"
    },
    "tags": []
   },
   "source": [
    "# **Save Prediction to CSV File**"
   ]
  },
  {
   "cell_type": "code",
   "execution_count": 33,
   "id": "rising-emergency",
   "metadata": {
    "execution": {
     "iopub.execute_input": "2021-04-16T16:01:27.572738Z",
     "iopub.status.busy": "2021-04-16T16:01:27.571992Z",
     "iopub.status.idle": "2021-04-16T16:01:27.593412Z",
     "shell.execute_reply": "2021-04-16T16:01:27.592472Z"
    },
    "papermill": {
     "duration": 0.065466,
     "end_time": "2021-04-16T16:01:27.593672",
     "exception": false,
     "start_time": "2021-04-16T16:01:27.528206",
     "status": "completed"
    },
    "tags": []
   },
   "outputs": [
    {
     "name": "stdout",
     "output_type": "stream",
     "text": [
      "['id', 'value']\n",
      "['id_0', 4.854398134784606]\n",
      "['id_1', 17.047708947804672]\n",
      "['id_2', 24.68240667108498]\n",
      "['id_3', 8.218950547910069]\n",
      "['id_4', 27.817762495051504]\n",
      "['id_5', 21.91228012532872]\n",
      "['id_6', 23.222267187536055]\n",
      "['id_7', 31.07256441370364]\n",
      "['id_8', 17.32783173898377]\n",
      "['id_9', 58.52143538754265]\n",
      "['id_10', 14.222984607595171]\n",
      "['id_11', 10.476481499249644]\n",
      "['id_12', 61.300654609127214]\n",
      "['id_13', 52.68285473726018]\n",
      "['id_14', 22.161752965676015]\n",
      "['id_15', 11.547008043614417]\n",
      "['id_16', 31.777954977709978]\n",
      "['id_17', 67.99060302672522]\n",
      "['id_18', -1.0619581594624046]\n",
      "['id_19', 16.72551652037045]\n",
      "['id_20', 42.35558375827458]\n",
      "['id_21', 71.61960936114068]\n",
      "['id_22', 9.386242002279586]\n",
      "['id_23', 17.941879679258786]\n",
      "['id_24', 15.084189258474927]\n",
      "['id_25', 38.0694438008131]\n",
      "['id_26', 13.971839229333073]\n",
      "['id_27', 72.37452139641543]\n",
      "['id_28', 7.581791325997711]\n",
      "['id_29', 55.19486556707836]\n",
      "['id_30', 23.150083536305242]\n",
      "['id_31', 8.37350163405719]\n",
      "['id_32', 2.4149932316019282]\n",
      "['id_33', 20.83500187867606]\n",
      "['id_34', 29.899766657192043]\n",
      "['id_35', 36.79638356005441]\n",
      "['id_36', 42.793005406763555]\n",
      "['id_37', 29.9159100607809]\n",
      "['id_38', 43.871738402540664]\n",
      "['id_39', 35.65243150031745]\n",
      "['id_40', 7.0539461846315925]\n",
      "['id_41', 40.284737309003695]\n",
      "['id_42', 31.223321795210534]\n",
      "['id_43', 50.26748371677789]\n",
      "['id_44', 16.34723312832323]\n",
      "['id_45', 34.90361071774711]\n",
      "['id_46', 24.739099834183293]\n",
      "['id_47', 10.42916074569378]\n",
      "['id_48', 24.524690199552865]\n",
      "['id_49', 32.23197971642456]\n",
      "['id_50', 21.374069114358523]\n",
      "['id_51', 8.888549377700523]\n",
      "['id_52', 20.911853760413123]\n",
      "['id_53', 53.52512138535056]\n",
      "['id_54', 16.071702057020353]\n",
      "['id_55', 35.746820180011085]\n",
      "['id_56', 32.274893770579624]\n",
      "['id_57', 23.192875118880544]\n",
      "['id_58', 58.1065123704352]\n",
      "['id_59', 21.305877235153456]\n",
      "['id_60', 15.763323258716]\n",
      "['id_61', 41.53888656418618]\n",
      "['id_62', 12.482381986128498]\n",
      "['id_63', 48.63408895842274]\n",
      "['id_64', 15.241451465993537]\n",
      "['id_65', 15.273779225557618]\n",
      "['id_66', 13.589850757149758]\n",
      "['id_67', -0.09824295868800637]\n",
      "['id_68', 43.7656584074253]\n",
      "['id_69', 31.424394138201702]\n",
      "['id_70', 20.04631374416052]\n",
      "['id_71', 39.00810836149116]\n",
      "['id_72', 59.731192853099564]\n",
      "['id_73', 4.856366082730185]\n",
      "['id_74', 16.937400558837123]\n",
      "['id_75', 5.50527999692705]\n",
      "['id_76', 40.16122426092617]\n",
      "['id_77', 14.823477105718617]\n",
      "['id_78', 22.53201368164289]\n",
      "['id_79', 22.683397484109342]\n",
      "['id_80', 25.202547212726174]\n",
      "['id_81', 38.50524665990331]\n",
      "['id_82', 22.894717569740482]\n",
      "['id_83', 90.39337259877674]\n",
      "['id_84', 36.4009750986063]\n",
      "['id_85', 26.28868460824826]\n",
      "['id_86', 23.606778926294055]\n",
      "['id_87', 30.69410137663246]\n",
      "['id_88', 24.579478156264454]\n",
      "['id_89', 21.099031804229593]\n",
      "['id_90', 29.67390559605428]\n",
      "['id_91', 40.75490311479028]\n",
      "['id_92', 4.274282748828118]\n",
      "['id_93', 37.81462081557692]\n",
      "['id_94', 45.814932839546664]\n",
      "['id_95', 15.914785411692423]\n",
      "['id_96', 33.81167156806915]\n",
      "['id_97', 11.889241494104642]\n",
      "['id_98', 24.872251913244106]\n",
      "['id_99', 3.859151086133484]\n",
      "['id_100', 18.429862758887595]\n",
      "['id_101', 28.196014010370224]\n",
      "['id_102', 12.560661156300451]\n",
      "['id_103', 15.683255769470033]\n",
      "['id_104', 23.08636442305366]\n",
      "['id_105', 39.25654811109451]\n",
      "['id_106', 30.188453977445402]\n",
      "['id_107', 6.7767486673769755]\n",
      "['id_108', 8.353621999340799]\n",
      "['id_109', 78.16431816103777]\n",
      "['id_110', 46.243114298642375]\n",
      "['id_111', 15.313221136498278]\n",
      "['id_112', 28.299560432763958]\n",
      "['id_113', 15.32533561196534]\n",
      "['id_114', 14.321793236487988]\n",
      "['id_115', 25.236830682706664]\n",
      "['id_116', 24.781824822385868]\n",
      "['id_117', 10.10825908788582]\n",
      "['id_118', 17.851990534224434]\n",
      "['id_119', 19.414234484639394]\n",
      "['id_120', 80.96508123234773]\n",
      "['id_121', 25.80189964248276]\n",
      "['id_122', 35.80397245390253]\n",
      "['id_123', 25.064706725114718]\n",
      "['id_124', 8.526651586256824]\n",
      "['id_125', 41.17279474231229]\n",
      "['id_126', 10.727072425704522]\n",
      "['id_127', 19.879246810010937]\n",
      "['id_128', 28.24828806112502]\n",
      "['id_129', 62.696972635604006]\n",
      "['id_130', 22.078537285886547]\n",
      "['id_131', 22.573691582464825]\n",
      "['id_132', 59.335419245783214]\n",
      "['id_133', 14.788488295465251]\n",
      "['id_134', 14.828784102191108]\n",
      "['id_135', 2.3326054689748]\n",
      "['id_136', 11.452794030716742]\n",
      "['id_137', 58.84566438652165]\n",
      "['id_138', 19.4338813759816]\n",
      "['id_139', 6.029763494668646]\n",
      "['id_140', 28.031606310837045]\n",
      "['id_141', 25.857424267609815]\n",
      "['id_142', 44.074627701059676]\n",
      "['id_143', 30.71040412362052]\n",
      "['id_144', 18.165343656269602]\n",
      "['id_145', 26.522004932677593]\n",
      "['id_146', 10.897472067876533]\n",
      "['id_147', 51.76935952592063]\n",
      "['id_148', 22.806567762634202]\n",
      "['id_149', 37.88069868729856]\n",
      "['id_150', 9.030483523543134]\n",
      "['id_151', 7.228528963047777]\n",
      "['id_152', 24.18424063206864]\n",
      "['id_153', 6.8044642930620185]\n",
      "['id_154', 14.50541024130167]\n",
      "['id_155', 41.3743211421809]\n",
      "['id_156', 8.165165298572573]\n",
      "['id_157', 36.99509397135739]\n",
      "['id_158', 10.129398398247604]\n",
      "['id_159', 18.642741652228043]\n",
      "['id_160', 41.079143500041]\n",
      "['id_161', 18.10895847507863]\n",
      "['id_162', 11.42594797044788]\n",
      "['id_163', 7.587846269250491]\n",
      "['id_164', 51.20860061579458]\n",
      "['id_165', 29.9071137387426]\n",
      "['id_166', -0.5562913819132059]\n",
      "['id_167', 15.262445277044572]\n",
      "['id_168', 62.91899076825306]\n",
      "['id_169', 14.106326343841395]\n",
      "['id_170', 64.42037880715407]\n",
      "['id_171', 39.62100290453915]\n",
      "['id_172', 26.09659170287991]\n",
      "['id_173', 20.54482189358449]\n",
      "['id_174', 61.63391714946588]\n",
      "['id_175', 24.6586427505071]\n",
      "['id_176', 20.914368884480346]\n",
      "['id_177', 36.76715270398948]\n",
      "['id_178', 11.930696319707474]\n",
      "['id_179', 30.57718266878795]\n",
      "['id_180', 16.749697963904577]\n",
      "['id_181', 11.476352295111962]\n",
      "['id_182', 55.483139601032576]\n",
      "['id_183', 45.90764939603513]\n",
      "['id_184', 17.068204328018894]\n",
      "['id_185', 35.600264693708844]\n",
      "['id_186', 26.46850147540485]\n",
      "['id_187', 69.70238846979873]\n",
      "['id_188', 9.9628392382897]\n",
      "['id_189', 56.339118413209114]\n",
      "['id_190', 37.95496597182256]\n",
      "['id_191', 16.253263573120112]\n",
      "['id_192', 29.876865413043742]\n",
      "['id_193', 0.5950673688718484]\n",
      "['id_194', 19.35460453866631]\n",
      "['id_195', 0.7461991167067272]\n",
      "['id_196', 34.30844703111342]\n",
      "['id_197', 10.39621906439737]\n",
      "['id_198', 18.224812378438674]\n",
      "['id_199', 61.37624176302575]\n",
      "['id_200', 24.019148315747096]\n",
      "['id_201', 22.853422358260353]\n",
      "['id_202', 64.64102453347681]\n",
      "['id_203', 10.443919756049912]\n",
      "['id_204', 9.070927605218372]\n",
      "['id_205', 11.662066360603808]\n",
      "['id_206', 8.54815187692368]\n",
      "['id_207', 2.3322294955996825]\n",
      "['id_208', 122.65874358160319]\n",
      "['id_209', 19.555955612920364]\n",
      "['id_210', 15.529499365084856]\n",
      "['id_211', 14.206185737546775]\n",
      "['id_212', 36.11424905627359]\n",
      "['id_213', 36.04317721033724]\n",
      "['id_214', 19.741565496179234]\n",
      "['id_215', 33.9428065812879]\n",
      "['id_216', 76.75348492965979]\n",
      "['id_217', 0.6607065361367768]\n",
      "['id_218', 13.127348733190964]\n",
      "['id_219', 32.947505451669684]\n",
      "['id_220', 15.894850028323244]\n",
      "['id_221', 12.113652429569923]\n",
      "['id_222', 113.83242339520227]\n",
      "['id_223', 12.517130440524626]\n",
      "['id_224', 16.647517154034418]\n",
      "['id_225', 61.168985587319426]\n",
      "['id_226', 16.582022460730798]\n",
      "['id_227', 20.114903326184812]\n",
      "['id_228', 9.58531420654557]\n",
      "['id_229', 3.695572106764899]\n",
      "['id_230', 44.92890454115079]\n",
      "['id_231', 13.824488733846698]\n",
      "['id_232', 52.39866821803712]\n",
      "['id_233', 42.42908831929624]\n",
      "['id_234', 23.56172233775096]\n",
      "['id_235', 41.77954120465157]\n",
      "['id_236', 68.12797337016127]\n",
      "['id_237', 39.868424287867526]\n",
      "['id_238', 13.627020613274698]\n",
      "['id_239', 16.31744726090628]\n"
     ]
    }
   ],
   "source": [
    "# baseline-cell\n",
    "import csv\n",
    "with open('submit.csv', mode='w', newline='') as submit_file:\n",
    "    csv_writer = csv.writer(submit_file)\n",
    "    header = ['id', 'value']\n",
    "    print(header)\n",
    "    csv_writer.writerow(header)\n",
    "    for i in range(240):\n",
    "        row = ['id_' + str(i), ans_y[i][0]]\n",
    "        csv_writer.writerow(row)\n",
    "        print(row)"
   ]
  }
 ],
 "metadata": {
  "kernelspec": {
   "display_name": "Python 3 (ipykernel)",
   "language": "python",
   "name": "python3"
  },
  "language_info": {
   "codemirror_mode": {
    "name": "ipython",
    "version": 3
   },
   "file_extension": ".py",
   "mimetype": "text/x-python",
   "name": "python",
   "nbconvert_exporter": "python",
   "pygments_lexer": "ipython3",
   "version": "3.9.13"
  },
  "papermill": {
   "default_parameters": {},
   "duration": 14.80661,
   "end_time": "2021-04-16T16:01:28.248072",
   "environment_variables": {},
   "exception": null,
   "input_path": "__notebook__.ipynb",
   "output_path": "__notebook__.ipynb",
   "parameters": {},
   "start_time": "2021-04-16T16:01:13.441462",
   "version": "2.3.2"
  }
 },
 "nbformat": 4,
 "nbformat_minor": 5
}
