{
 "cells": [
  {
   "cell_type": "code",
   "execution_count": 1,
   "id": "123b6d51-5a45-4878-ad08-e8e2f32c0a75",
   "metadata": {},
   "outputs": [],
   "source": [
    "import sympy as sp"
   ]
  },
  {
   "cell_type": "code",
   "execution_count": 2,
   "id": "33895cf8-9fa5-4b87-9517-fdb8bab0bdd3",
   "metadata": {},
   "outputs": [
    {
     "data": {
      "text/latex": [
       "$\\displaystyle h_{\\theta}{\\left(x \\right)} = \\theta_{0} + \\theta_{1} x$"
      ],
      "text/plain": [
       "Eq(h_theta(x), theta_0 + theta_1*x)"
      ]
     },
     "execution_count": 2,
     "metadata": {},
     "output_type": "execute_result"
    }
   ],
   "source": [
    "h_theta = sp.Symbol(\"h_theta\")\n",
    "theta_0, theta_1 = sp.symbols(\"theta_0, theta_1\")\n",
    "x = sp.Symbol(\"x\")\n",
    "theta = sp.Symbol(\"theta\")\n",
    "\n",
    "hypo = sp.Function(h_theta)(x)\n",
    "eq = sp.Eq(hypo, theta_0 + theta_1 * x)\n",
    "eq"
   ]
  },
  {
   "cell_type": "code",
   "execution_count": 3,
   "id": "7d90b460-e31d-48fe-8d35-d81c78ae7c35",
   "metadata": {},
   "outputs": [],
   "source": [
    "import numpy as np"
   ]
  },
  {
   "cell_type": "code",
   "execution_count": 20,
   "id": "c6cfc0fb-8608-4e36-a139-5dd5bfc5ec94",
   "metadata": {},
   "outputs": [],
   "source": [
    "x_data = [338.0, 333.0, 328.0, 207.0, 226.0, 25.0, 179.0, 60.0, 208.0, 606.0]\n",
    "y_data = [640.0, 633.0, 619.0, 393.0, 428.0, 27.0, 193.0, 66.0, 226.0, 1591.0]"
   ]
  },
  {
   "cell_type": "code",
   "execution_count": 21,
   "id": "2efe1fe3-0173-4415-86f9-1a75a771c851",
   "metadata": {},
   "outputs": [],
   "source": [
    "# x_data = np.random.randn(10, 1)\n",
    "# x_data\n",
    "\n",
    "# y_data = 2 * x_data + np.random.rand()\n",
    "# y_data"
   ]
  },
  {
   "cell_type": "code",
   "execution_count": 43,
   "id": "3bce86cb-6554-4960-bea6-5bd93c165182",
   "metadata": {},
   "outputs": [],
   "source": [
    "def gd(X, Y, iteration=100000, lr=1e-5):\n",
    "    theta_0 = 0\n",
    "    theta_1 = 0\n",
    "    n = len(X)\n",
    "    for i in range(iteration):\n",
    "        theta_0_grad = 0\n",
    "        theta_1_grad = 0\n",
    "        for x, y in zip(X, Y):\n",
    "            theta_0_grad -= (y - (theta_0 + theta_1 * x))\n",
    "            theta_1_grad -= (y - (theta_0 + theta_1 * x)) * x\n",
    "        \n",
    "        theta_0 -= lr * theta_0_grad / n\n",
    "        theta_1 -= lr * theta_1_grad / n\n",
    "        \n",
    "        if i % 100000 == 0:\n",
    "            loss = 0\n",
    "            for x, y in zip(X, Y):\n",
    "                loss += ((theta_0 + theta_1 * x) - y) ** 2\n",
    "            loss = loss / (2 * n)\n",
    "            print(loss)\n",
    "        \n",
    "    \n",
    "    return theta_0, theta_1"
   ]
  },
  {
   "cell_type": "code",
   "execution_count": 44,
   "id": "6e5281b7-ea6c-441a-92bb-9aaa0f0a0b7f",
   "metadata": {},
   "outputs": [
    {
     "name": "stdout",
     "output_type": "stream",
     "text": [
      "13213.210249077802\n",
      "7930.557277252408\n",
      "6719.780991740251\n",
      "6026.338390842922\n",
      "5629.186046109098\n",
      "5401.726722549513\n",
      "5271.454940045285\n",
      "5196.844952416492\n",
      "5154.1139008644295\n",
      "5129.640732797075\n",
      "5115.624322399963\n",
      "5107.596765040834\n",
      "5102.99917726134\n",
      "5100.366020941869\n",
      "5098.857944851683\n",
      "5097.994231035316\n",
      "5097.499560002839\n",
      "5097.216249228212\n",
      "5097.053989888664\n",
      "5096.961059807545\n",
      "5096.907836369058\n",
      "5096.877353942157\n",
      "5096.859895875258\n",
      "5096.84989719304\n",
      "5096.84417069155\n",
      "5096.840890977425\n",
      "5096.8390126011145\n",
      "5096.837936806874\n",
      "5096.837320671946\n",
      "5096.836967795687\n",
      "5096.836765694416\n",
      "5096.836649945833\n",
      "5096.836583653659\n",
      "5096.836545686433\n",
      "5096.836523941629\n",
      "5096.836511487826\n",
      "5096.836504355209\n",
      "5096.836500270174\n",
      "5096.8364979305725\n",
      "5096.836496590627\n",
      "5096.836495823203\n",
      "5096.836495383679\n",
      "5096.836495131951\n",
      "5096.836494987785\n",
      "5096.836494905214\n",
      "5096.836494857921\n",
      "5096.836494830839\n",
      "5096.836494815327\n",
      "5096.836494806444\n",
      "5096.83649480135\n",
      "5096.83649479844\n",
      "5096.836494796772\n",
      "5096.836494795816\n",
      "5096.8364947952705\n",
      "5096.836494794958\n",
      "5096.836494794778\n",
      "5096.836494794671\n",
      "5096.836494794612\n",
      "5096.836494794577\n",
      "5096.836494794558\n",
      "5096.836494794549\n",
      "5096.8364947945465\n",
      "5096.836494794539\n",
      "5096.836494794537\n",
      "5096.836494794535\n",
      "5096.836494794531\n",
      "5096.836494794536\n",
      "5096.836494794536\n",
      "5096.836494794533\n",
      "5096.836494794536\n",
      "5096.836494794537\n",
      "5096.836494794534\n",
      "5096.836494794535\n",
      "5096.836494794538\n",
      "5096.836494794535\n",
      "5096.836494794532\n",
      "5096.836494794531\n",
      "5096.836494794536\n",
      "5096.836494794536\n",
      "5096.836494794536\n",
      "5096.836494794533\n",
      "5096.836494794536\n",
      "5096.836494794536\n",
      "5096.836494794533\n",
      "5096.836494794533\n",
      "5096.836494794533\n",
      "5096.836494794536\n",
      "5096.836494794533\n",
      "5096.836494794533\n",
      "5096.836494794533\n",
      "5096.836494794533\n",
      "5096.836494794533\n",
      "5096.836494794533\n",
      "5096.836494794533\n",
      "5096.836494794533\n",
      "5096.836494794533\n",
      "5096.836494794533\n",
      "5096.836494794533\n",
      "5096.836494794533\n",
      "5096.836494794533\n"
     ]
    },
    {
     "data": {
      "text/plain": [
       "(-188.4331966522271, 2.6694549667476024)"
      ]
     },
     "execution_count": 44,
     "metadata": {},
     "output_type": "execute_result"
    }
   ],
   "source": [
    "gd(x_data, y_data, iteration=int(1e7))"
   ]
  },
  {
   "cell_type": "code",
   "execution_count": null,
   "id": "120a4e24-f2c7-40bd-bac9-384cd400dc47",
   "metadata": {},
   "outputs": [],
   "source": []
  }
 ],
 "metadata": {
  "kernelspec": {
   "display_name": "LYH-ML",
   "language": "python",
   "name": "ml"
  },
  "language_info": {
   "codemirror_mode": {
    "name": "ipython",
    "version": 3
   },
   "file_extension": ".py",
   "mimetype": "text/x-python",
   "name": "python",
   "nbconvert_exporter": "python",
   "pygments_lexer": "ipython3",
   "version": "3.8.15"
  }
 },
 "nbformat": 4,
 "nbformat_minor": 5
}
